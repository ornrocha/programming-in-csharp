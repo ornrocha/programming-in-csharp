{
 "cells": [
  {
   "cell_type": "markdown",
   "metadata": {},
   "source": [
    "# Symmetric Encryption and Decryption using AES algorithm"
   ]
  },
  {
   "cell_type": "code",
   "execution_count": 1,
   "metadata": {},
   "outputs": [],
   "source": [
    "using System;  \n",
    "using System.Security.Cryptography;  \n",
    "using System.IO;\n",
    "using System.Text;"
   ]
  },
  {
   "cell_type": "code",
   "execution_count": 2,
   "metadata": {},
   "outputs": [],
   "source": [
    "public static byte[] EncryptStringWithAES(string text, byte[] key, byte[] initVector)  \n",
    "{  \n",
    "       \n",
    "    byte[] encryptedText;\n",
    "       \n",
    "    // This generates a new key and initialization vector (IV)\n",
    "    using (AesCryptoServiceProvider aes = new AesCryptoServiceProvider())\n",
    "    {\n",
    "        \n",
    "        aes.Key = key;\n",
    "        aes.IV = initVector;\n",
    "\n",
    "        // create an encryptor to encrypt some text\n",
    "        \n",
    "        ICryptoTransform encryptor = aes.CreateEncryptor(aes.Key, aes.IV);\n",
    "\n",
    "         // Create the streams used for encryption.\n",
    "        using (MemoryStream msEnc = new MemoryStream())\n",
    "        {\n",
    "            using (CryptoStream csEnc = new CryptoStream(msEnc, encryptor, CryptoStreamMode.Write))\n",
    "            {\n",
    "                using (StreamWriter stWriterEnc = new StreamWriter(csEnc))\n",
    "                {\n",
    "                   stWriterEnc.Write(text);\n",
    "                }\n",
    "                \n",
    "                encryptedText = msEnc.ToArray();\n",
    "            }\n",
    "        }\n",
    "    }\n",
    "    \n",
    "    return encryptedText;\n",
    "} "
   ]
  },
  {
   "cell_type": "code",
   "execution_count": 3,
   "metadata": {},
   "outputs": [],
   "source": [
    "public static string DecryptBytesAES(byte[] encryptedMSG, byte[] key, byte[] initVector)  \n",
    "{  \n",
    "       \n",
    "    \n",
    "    string decryptText = null;\n",
    "\n",
    "    using (AesCryptoServiceProvider aes = new AesCryptoServiceProvider())\n",
    "    {\n",
    "        \n",
    "        aes.Key = key;\n",
    "        aes.IV = initVector;\n",
    "\n",
    "        // create an decryptor to decrypt message\n",
    "        \n",
    "        ICryptoTransform decryptor = aes.CreateDecryptor(aes.Key, aes.IV);\n",
    "\n",
    "         // Create the streams used for decryption.\n",
    "        using (MemoryStream msDec = new MemoryStream(encryptedMSG))\n",
    "        {\n",
    "            using (CryptoStream csDec = new CryptoStream(msDec, decryptor, CryptoStreamMode.Read))\n",
    "            {\n",
    "                using (StreamReader stReaderDec = new StreamReader(csDec))\n",
    "                {\n",
    "                   decryptText = stReaderDec.ReadToEnd(); \n",
    "                }\n",
    "\n",
    "            }\n",
    "        }\n",
    "    }\n",
    "    \n",
    "    return decryptText;\n",
    "} "
   ]
  },
  {
   "cell_type": "code",
   "execution_count": 5,
   "metadata": {},
   "outputs": [
    {
     "name": "stdout",
     "output_type": "stream",
     "text": [
      "Encrypted Message:   s֤�\u0018qF�:�\u0002�Y`(P�N��o���b`��\u0014�\"\u001d",
      " \n",
      "\n",
      "Decrypted Message: This is my string to encrypt!\n"
     ]
    }
   ],
   "source": [
    "string mytext = \"This is my string to encrypt!\";\n",
    "\n",
    "// First create AES key and initialization vector to encrypt and decrypt a message\n",
    "// These keys must be placed in a secure location.\n",
    "using (AesCryptoServiceProvider myAes = new AesCryptoServiceProvider())\n",
    "{\n",
    "    \n",
    "    byte[] encryptedMSG = EncryptStringWithAES(mytext, myAes.Key, myAes.IV);\n",
    "    Console.WriteLine(\"Encrypted Message:   {0} \\n\", Encoding.UTF8.GetString(encryptedMSG));\n",
    "    \n",
    "    \n",
    "    string decryptedMSG = DecryptBytesAES(encryptedMSG, myAes.Key, myAes.IV);\n",
    "    Console.WriteLine(\"Decrypted Message: {0}\", decryptedMSG);\n",
    "}"
   ]
  },
  {
   "cell_type": "code",
   "execution_count": null,
   "metadata": {},
   "outputs": [],
   "source": []
  }
 ],
 "metadata": {
  "kernelspec": {
   "display_name": ".NET (C#)",
   "language": "C#",
   "name": ".net-csharp"
  },
  "language_info": {
   "file_extension": ".cs",
   "mimetype": "text/x-csharp",
   "name": "C#",
   "pygments_lexer": "csharp",
   "version": "8.0"
  },
  "toc": {
   "base_numbering": 1,
   "nav_menu": {},
   "number_sections": false,
   "sideBar": false,
   "skip_h1_title": false,
   "title_cell": "Table of Contents",
   "title_sidebar": "Contents",
   "toc_cell": false,
   "toc_position": {},
   "toc_section_display": false,
   "toc_window_display": false
  }
 },
 "nbformat": 4,
 "nbformat_minor": 2
}
