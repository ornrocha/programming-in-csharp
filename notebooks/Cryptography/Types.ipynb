{
 "cells": [
  {
   "cell_type": "markdown",
   "metadata": {},
   "source": [
    "# Message Authentication\n",
    "\n",
    "## Hashing Algorithms\n",
    "\n",
    "|  Name  | block size (bits) | Hash code size (bits) |\n",
    "|:------:|:-----------------:|:---------------------:|\n",
    "|   MD5  |        512        |          128          |\n",
    "|  SHA-1 |        512        |          160          |\n",
    "| SHA256 |        512        |          256          |\n",
    "| SHA384 |        1024       |          384          |\n",
    "| SHA512 |        1024       |          512          |\n",
    "\n",
    "\n",
    "## Authenticated Hashing (HMAC)\n",
    "\n",
    "* HMAC (Hash-based message authentication)\n",
    "* HMAC-SHA-1 (combination of the HMAC and SHA-1 algorithm)\n",
    "\n",
    "Can be used to verify both the data integrity and the authentication of a message.\n"
   ]
  },
  {
   "cell_type": "markdown",
   "metadata": {},
   "source": [
    "# Encryption\n",
    "\n",
    "## Symmetric encryption algorithms\n",
    "\n",
    "* AES: AESManaged, AesCng, AesCryptoServiceProvider\n",
    "* RC2: RC2CryptoServiceProvide\n",
    "* DES: DESCryptoServiceProvider\n",
    "* Rijndael: RijndaelManaged\n",
    "* TripleDES: TripleDESCng, TripleDESCryptoServiceProvider\n",
    "\n",
    "|      Name     |   Block Size  |                  Key Length (bits)                 |\n",
    "|:-------------:|:-------------:|:--------------------------------------------------:|\n",
    "| AES, Rijndael | 128, 192, 256 |                    128, 192, 256                   |\n",
    "|      DES      |       64      |                         56                         |\n",
    "|      RC2      |       64      | 40, 48, 56, 64, 72, 80, 88, 96, 104, 112, 120, 128 |\n",
    "|   TripleDES   |       64      |                    56, 112, 168                    |\n",
    "\n",
    "\n",
    "\n",
    "\n",
    "\n",
    "## Asymmetric encryption algorithms\n",
    "\n",
    "* RSA: RSACng, RSACryptoServiceProvider, RSAOpenSsl (RSA can only encrypt data up to the key length)\n",
    "* DSA: DSACng, DSACryptoServiceProvider, DSAOpenSsl\n",
    "* ECDsa: ECDsaCng, ECDsaOpenSsl\n",
    "* ECDiffieHellman: ECDiffieHellmanCng, ECDiffieHellmanOpenSsl\n",
    "    \n",
    "\n",
    "\n",
    "# Notes\n",
    "\n",
    "The required main namespace **System.Security.Cryptography**, provides the cryptographic services: symmetric and asymmetric encryption, hashing algorithms, and digital signatures."
   ]
  },
  {
   "cell_type": "markdown",
   "metadata": {},
   "source": [
    "# Digital Signatures\n",
    "\n",
    "Methods for signing and verifying the authenticity of a document, using an asymmetric encryption (public-private key pairs).\n",
    "\n",
    "* DSA (Digital Signature Algorithm): DSACryptoServiceProvider \n",
    "* RSA (Rivest–Shamir–Adleman Algorithm): RSACryptoServiceProvider -> "
   ]
  },
  {
   "cell_type": "code",
   "execution_count": null,
   "metadata": {},
   "outputs": [],
   "source": []
  }
 ],
 "metadata": {
  "kernelspec": {
   "display_name": ".NET (C#)",
   "language": "C#",
   "name": ".net-csharp"
  },
  "language_info": {
   "file_extension": ".cs",
   "mimetype": "text/x-csharp",
   "name": "C#",
   "pygments_lexer": "csharp",
   "version": "8.0"
  },
  "toc": {
   "base_numbering": 1,
   "nav_menu": {},
   "number_sections": false,
   "sideBar": false,
   "skip_h1_title": false,
   "title_cell": "Table of Contents",
   "title_sidebar": "Contents",
   "toc_cell": false,
   "toc_position": {},
   "toc_section_display": false,
   "toc_window_display": false
  }
 },
 "nbformat": 4,
 "nbformat_minor": 2
}
