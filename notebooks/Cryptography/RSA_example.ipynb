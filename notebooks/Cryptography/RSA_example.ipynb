{
 "cells": [
  {
   "cell_type": "markdown",
   "metadata": {},
   "source": [
    "# Asymmetric Encryption and Decryption  using RSA algorithm"
   ]
  },
  {
   "cell_type": "code",
   "execution_count": 1,
   "metadata": {},
   "outputs": [],
   "source": [
    "using System;  \n",
    "using System.Security.Cryptography;  \n",
    "using System.IO;\n",
    "using System.Text;"
   ]
  },
  {
   "cell_type": "code",
   "execution_count": 2,
   "metadata": {},
   "outputs": [],
   "source": [
    "public static byte[] EncryptStringWithRSA(string text, string publicKey)  \n",
    "{  \n",
    "       \n",
    "    byte[] encryptedText;\n",
    "    byte[] bytesToEncrypt = Encoding.UTF8.GetBytes(text);\n",
    "       \n",
    "    using (RSACryptoServiceProvider rsa = new RSACryptoServiceProvider())\n",
    "    {\n",
    "        \n",
    "        rsa.FromXmlString(publicKey);\n",
    "\n",
    "       encryptedText = rsa.Encrypt(bytesToEncrypt, false); \n",
    "    }\n",
    "    \n",
    "    return encryptedText;\n",
    "} "
   ]
  },
  {
   "cell_type": "code",
   "execution_count": 3,
   "metadata": {},
   "outputs": [],
   "source": [
    "public static string DecryptBytesRSA(byte[] encryptedMSG, string privateKey)  \n",
    "{  \n",
    "       \n",
    "    \n",
    "    byte[] decryptedText = null;\n",
    "\n",
    "    using (RSACryptoServiceProvider rsa = new RSACryptoServiceProvider())\n",
    "    {\n",
    "        \n",
    "        rsa.FromXmlString(privateKey);  \n",
    "       \n",
    "        decryptedText = rsa.Decrypt(encryptedMSG, false); \n",
    "       \n",
    "    }\n",
    "    \n",
    "    return Encoding.UTF8.GetString(decryptedText);\n",
    "} "
   ]
  },
  {
   "cell_type": "code",
   "execution_count": 5,
   "metadata": {},
   "outputs": [
    {
     "name": "stdout",
     "output_type": "stream",
     "text": [
      "Encrypted Message: o�\n",
      "qZ!��'y��e�0�v�>�ɧ��M�&Y6_\u001d",
      "U麞�dH�C�\u001f=S�\u0019��\u0001e/-&��\"�e���c�?\u000b",
      "j�'�{�G9��GW弬O�wa��6�K��\u0018_\u0001��R��e�C\u0013JDHU� �\n",
      "\n",
      "Decrypted Message: This is my string to encrypt!\n"
     ]
    }
   ],
   "source": [
    "string mytext = \"This is my string to encrypt!\";\n",
    "\n",
    "// First create RSA public and private keys to encrypt and decrypt a message\n",
    "// In a real situation these keys should be placed in a safe location.\n",
    "using (RSACryptoServiceProvider rsa = new RSACryptoServiceProvider())\n",
    "{\n",
    "    \n",
    "    string publicKey = rsa.ToXmlString(false); \n",
    "    string privateKey = rsa.ToXmlString(true);\n",
    "    \n",
    "    \n",
    "    \n",
    "    \n",
    "    byte[] encryptedMSG = EncryptStringWithRSA(mytext, publicKey);\n",
    "    Console.Write(\"Encrypted Message: \");\n",
    "    Console.WriteLine(Encoding.UTF8.GetString(encryptedMSG));\n",
    "    \n",
    "    \n",
    "    string decryptedMSG = DecryptBytesRSA(encryptedMSG, privateKey);\n",
    "    Console.WriteLine(\"\\nDecrypted Message: {0}\", decryptedMSG);\n",
    "}"
   ]
  },
  {
   "cell_type": "code",
   "execution_count": null,
   "metadata": {},
   "outputs": [],
   "source": []
  }
 ],
 "metadata": {
  "kernelspec": {
   "display_name": ".NET (C#)",
   "language": "C#",
   "name": ".net-csharp"
  },
  "language_info": {
   "file_extension": ".cs",
   "mimetype": "text/x-csharp",
   "name": "C#",
   "pygments_lexer": "csharp",
   "version": "8.0"
  },
  "toc": {
   "base_numbering": 1,
   "nav_menu": {},
   "number_sections": false,
   "sideBar": false,
   "skip_h1_title": false,
   "title_cell": "Table of Contents",
   "title_sidebar": "Contents",
   "toc_cell": false,
   "toc_position": {},
   "toc_section_display": false,
   "toc_window_display": false
  }
 },
 "nbformat": 4,
 "nbformat_minor": 2
}
