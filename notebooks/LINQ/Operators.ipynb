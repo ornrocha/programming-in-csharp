{
 "cells": [
  {
   "cell_type": "code",
   "execution_count": 1,
   "metadata": {},
   "outputs": [],
   "source": [
    "using System.Collections.Generic;\n",
    "\n",
    "public static class Data\n",
    "    {\n",
    "\n",
    "        public struct Student\n",
    "        {\n",
    "            public int StudentID;\n",
    "            public string StudentName;\n",
    "            public int Age;\n",
    "            public int Label;\n",
    "\n",
    "        }\n",
    "\n",
    "        public struct Qualification\n",
    "        {\n",
    "            public int Label;\n",
    "            public string Name;\n",
    "        }\n",
    "    \n",
    "    \n",
    "        public struct Nickname\n",
    "        {\n",
    "            public string StudentName;\n",
    "            public int Age;\n",
    "            public string Nickame;\n",
    "\n",
    "        }\n",
    "    \n",
    "\n",
    "\n",
    "        public static List<Student> GetStudentList()\n",
    "        {\n",
    "            List<Student> list = new List<Student>()\n",
    "            {\n",
    "                new Student() { StudentID = 1, StudentName = \"Maria\", Age = 17, Label = 1 } ,\n",
    "                new Student() { StudentID = 2, StudentName = \"Oliver\",  Age = 24, Label = 1 } ,\n",
    "                new Student() { StudentID = 3, StudentName = \"Harry\",  Age = 18, Label = 3 } ,\n",
    "                new Student() { StudentID = 4, StudentName = \"George\" , Age = 20, Label= 2 } ,\n",
    "                new Student() { StudentID = 5, StudentName = \"Isla\" , Age = 21 , Label=3}\n",
    "            };\n",
    "\n",
    "            return list;\n",
    "        }\n",
    "\n",
    "\n",
    "        public static List<Qualification> GetQualificationList()\n",
    "        {\n",
    "            return new List<Qualification>() {\n",
    "                new Qualification(){ Label = 1, Name=\"Excelent\"},\n",
    "                new Qualification(){ Label = 2, Name=\"Good\"},\n",
    "                new Qualification(){ Label = 3, Name=\"Medium\"}\n",
    "            };\n",
    "        }\n",
    "    \n",
    "    \n",
    "        public static List<Nickname> GetStudentNickname()\n",
    "        {\n",
    "            List<Nickname> list = new List<Nickname>()\n",
    "            {\n",
    "                new Nickname() { StudentName = \"Maria\", Age = 17, Nickame = \"Bee\" } ,\n",
    "                new Nickname() { StudentName = \"Maria\", Age = 17, Nickame = \"Awesome\" } ,\n",
    "                new Nickname() { StudentName = \"Harry\",  Age = 18, Nickame = \"Bully\" } ,\n",
    "                new Nickname() { StudentName = \"George\" , Age = 20, Nickame = \"Cowboy\" }\n",
    "            };\n",
    "\n",
    "            return list;\n",
    "        }\n",
    "\n",
    "    }"
   ]
  },
  {
   "cell_type": "markdown",
   "metadata": {},
   "source": [
    "# Where operator"
   ]
  },
  {
   "cell_type": "code",
   "execution_count": 2,
   "metadata": {},
   "outputs": [
    {
     "name": "stdout",
     "output_type": "stream",
     "text": [
      "George\n",
      "Isla\n"
     ]
    }
   ],
   "source": [
    "var students = Data.GetStudentList().Where(s => s.Age >= 20 && s.Age < 22).Select(s => s);\n",
    "            \n",
    "students.ToList().ForEach(s => Console.WriteLine(s.StudentName));"
   ]
  },
  {
   "cell_type": "markdown",
   "metadata": {},
   "source": [
    "### Multiple Where clauses"
   ]
  },
  {
   "cell_type": "code",
   "execution_count": 3,
   "metadata": {},
   "outputs": [
    {
     "name": "stdout",
     "output_type": "stream",
     "text": [
      "George\n",
      "Isla\n"
     ]
    }
   ],
   "source": [
    "var students = Data.GetStudentList().Where(s => s.Age >= 20).Where(s => s.Age < 22).Select(s => s);\n",
    "            \n",
    "students.ToList().ForEach(s => Console.WriteLine(s.StudentName));"
   ]
  },
  {
   "cell_type": "markdown",
   "metadata": {},
   "source": [
    "## Use a delegate to filter age"
   ]
  },
  {
   "cell_type": "code",
   "execution_count": 4,
   "metadata": {},
   "outputs": [
    {
     "name": "stdout",
     "output_type": "stream",
     "text": [
      "Maria\n"
     ]
    }
   ],
   "source": [
    "\n",
    "Func<Data.Student,bool> isUnderEighteen = delegate(Data.Student s) { \n",
    "                                    return s.Age < 18; \n",
    "                                };\n",
    "\n",
    "var students = Data.GetStudentList().Where(s => isUnderEighteen(s)).Select(s => s);\n",
    "\n",
    "students.ToList().ForEach(s => Console.WriteLine(s.StudentName));"
   ]
  },
  {
   "cell_type": "markdown",
   "metadata": {},
   "source": [
    "### with query syntax"
   ]
  },
  {
   "cell_type": "code",
   "execution_count": 5,
   "metadata": {},
   "outputs": [
    {
     "name": "stdout",
     "output_type": "stream",
     "text": [
      "Maria\n"
     ]
    }
   ],
   "source": [
    "var students = from s in Data.GetStudentList() where isUnderEighteen(s) select s;\n",
    "\n",
    "students.ToList().ForEach(s => Console.WriteLine(s.StudentName));"
   ]
  },
  {
   "cell_type": "markdown",
   "metadata": {},
   "source": [
    "# OrderBy operator"
   ]
  },
  {
   "cell_type": "code",
   "execution_count": 6,
   "metadata": {},
   "outputs": [
    {
     "name": "stdout",
     "output_type": "stream",
     "text": [
      "Maria\n",
      "Harry\n",
      "George\n",
      "Isla\n",
      "Oliver\n"
     ]
    }
   ],
   "source": [
    "var students = Data.GetStudentList().OrderBy(s => s.Age);\n",
    "\n",
    "students.ToList().ForEach(s => Console.WriteLine(s.StudentName));"
   ]
  },
  {
   "cell_type": "markdown",
   "metadata": {},
   "source": [
    "### with query syntax"
   ]
  },
  {
   "cell_type": "code",
   "execution_count": 7,
   "metadata": {},
   "outputs": [
    {
     "name": "stdout",
     "output_type": "stream",
     "text": [
      "Maria\n",
      "Harry\n",
      "George\n",
      "Isla\n",
      "Oliver\n"
     ]
    }
   ],
   "source": [
    "var students = from s in Data.GetStudentList() orderby s.Age select s;\n",
    "\n",
    "students.ToList().ForEach(s => Console.WriteLine(s.StudentName));"
   ]
  },
  {
   "cell_type": "markdown",
   "metadata": {},
   "source": [
    "# ThenBy operator"
   ]
  },
  {
   "cell_type": "code",
   "execution_count": 8,
   "metadata": {},
   "outputs": [
    {
     "name": "stdout",
     "output_type": "stream",
     "text": [
      "Maria\n",
      "Oliver\n",
      "George\n",
      "Harry\n",
      "Isla\n"
     ]
    }
   ],
   "source": [
    "var students = Data.GetStudentList().OrderBy(s => s.Label).ThenBy(s => s.Age);\n",
    "\n",
    "students.ToList().ForEach(s => Console.WriteLine(s.StudentName));"
   ]
  },
  {
   "cell_type": "markdown",
   "metadata": {},
   "source": [
    "### with query syntax"
   ]
  },
  {
   "cell_type": "code",
   "execution_count": 9,
   "metadata": {},
   "outputs": [
    {
     "name": "stdout",
     "output_type": "stream",
     "text": [
      "Maria\n",
      "Oliver\n",
      "George\n",
      "Harry\n",
      "Isla\n"
     ]
    }
   ],
   "source": [
    "var students = from s in Data.GetStudentList() orderby s.Label, s.Age select s;\n",
    "\n",
    "students.ToList().ForEach(s => Console.WriteLine(s.StudentName));"
   ]
  },
  {
   "cell_type": "markdown",
   "metadata": {},
   "source": [
    "# GroupBy operator"
   ]
  },
  {
   "cell_type": "code",
   "execution_count": 10,
   "metadata": {},
   "outputs": [
    {
     "name": "stdout",
     "output_type": "stream",
     "text": [
      "Label: 1 => Student Name Maria\n",
      "Label: 1 => Student Name Oliver\n",
      "Label: 3 => Student Name Harry\n",
      "Label: 3 => Student Name Isla\n",
      "Label: 2 => Student Name George\n"
     ]
    }
   ],
   "source": [
    "var students = Data.GetStudentList().GroupBy(s => s.Label).Select(s => s);\n",
    "\n",
    "students.ToList().ForEach(s => s.ToList().ForEach(x => Console.WriteLine(\"Label: {0} => Student Name {1}\", x.Label, x.StudentName)));"
   ]
  },
  {
   "cell_type": "code",
   "execution_count": 11,
   "metadata": {},
   "outputs": [
    {
     "name": "stdout",
     "output_type": "stream",
     "text": [
      "Label Group: 1\n",
      "\tStudent Name: Maria\n",
      "\tStudent Name: Oliver\n",
      "Label Group: 3\n",
      "\tStudent Name: Harry\n",
      "\tStudent Name: Isla\n",
      "Label Group: 2\n",
      "\tStudent Name: George\n"
     ]
    }
   ],
   "source": [
    "foreach (var labelgroup in students)\n",
    "{\n",
    "    Console.WriteLine(\"Label Group: {0}\", labelgroup.Key);\n",
    "             \n",
    "    foreach(Data.Student s in labelgroup) \n",
    "        Console.WriteLine(\"\\tStudent Name: {0}\", s.StudentName);\n",
    "}"
   ]
  },
  {
   "cell_type": "markdown",
   "metadata": {},
   "source": [
    "# Join operator"
   ]
  },
  {
   "cell_type": "code",
   "execution_count": 12,
   "metadata": {},
   "outputs": [
    {
     "name": "stdout",
     "output_type": "stream",
     "text": [
      "Student name: Maria  Qualification: Excelent\n",
      "Student name: Oliver  Qualification: Excelent\n",
      "Student name: Harry  Qualification: Medium\n",
      "Student name: George  Qualification: Good\n",
      "Student name: Isla  Qualification: Medium\n"
     ]
    }
   ],
   "source": [
    "var students = Data.GetStudentList().Join(Data.GetQualificationList(),\n",
    "                                                 e1 => e1.Label,\n",
    "                                                 e2 => e2.Label,\n",
    "                                                 (e1, e2) => new { Name = e1.StudentName, Qualification = e2.Name });\n",
    "\n",
    "students.ToList().ForEach(s => Console.WriteLine(\"Student name: {0}  Qualification: {1}\", s.Name, s.Qualification));"
   ]
  },
  {
   "cell_type": "markdown",
   "metadata": {},
   "source": [
    "### with query syntax"
   ]
  },
  {
   "cell_type": "code",
   "execution_count": 13,
   "metadata": {},
   "outputs": [
    {
     "name": "stdout",
     "output_type": "stream",
     "text": [
      "Student name: Maria  Qualification: Excelent\n",
      "Student name: Oliver  Qualification: Excelent\n",
      "Student name: Harry  Qualification: Medium\n",
      "Student name: George  Qualification: Good\n",
      "Student name: Isla  Qualification: Medium\n"
     ]
    }
   ],
   "source": [
    "var students = from e1 in Data.GetStudentList()\n",
    "                           join e2 in Data.GetQualificationList()\n",
    "                           on e1.Label equals e2.Label\n",
    "                           select new { Name = e1.StudentName, Qualification = e2.Name };\n",
    "\n",
    "students.ToList().ForEach(s => Console.WriteLine(\"Student name: {0}  Qualification: {1}\", s.Name, s.Qualification));"
   ]
  },
  {
   "cell_type": "markdown",
   "metadata": {},
   "source": [
    "# GroupJoin Operator"
   ]
  },
  {
   "cell_type": "code",
   "execution_count": 14,
   "metadata": {},
   "outputs": [
    {
     "name": "stdout",
     "output_type": "stream",
     "text": [
      "Label Group: Excelent\n",
      "\tStudent Name: Maria\n",
      "\tStudent Name: Oliver\n",
      "Label Group: Good\n",
      "\tStudent Name: George\n",
      "Label Group: Medium\n",
      "\tStudent Name: Harry\n",
      "\tStudent Name: Isla\n"
     ]
    }
   ],
   "source": [
    "var students = Data.GetQualificationList().GroupJoin(Data.GetStudentList(),\n",
    "                                                 e1 => e1.Label,\n",
    "                                                 e2 => e2.Label,\n",
    "                                                 (e1, egroup) => new { Qualification = e1.Name , StudentGroup = egroup });\n",
    "\n",
    "foreach (var labelgroup in students)\n",
    "{\n",
    "    Console.WriteLine(\"Label Group: {0}\", labelgroup.Qualification);\n",
    "\n",
    "     foreach (Data.Student s in labelgroup.StudentGroup)\n",
    "        Console.WriteLine(\"\\tStudent Name: {0}\", s.StudentName);\n",
    "}"
   ]
  },
  {
   "cell_type": "markdown",
   "metadata": {},
   "source": [
    "### with query syntax"
   ]
  },
  {
   "cell_type": "code",
   "execution_count": 15,
   "metadata": {},
   "outputs": [
    {
     "name": "stdout",
     "output_type": "stream",
     "text": [
      "Label Group: Excelent\n",
      "\tStudent Name: Maria\n",
      "\tStudent Name: Oliver\n",
      "Label Group: Good\n",
      "\tStudent Name: George\n",
      "Label Group: Medium\n",
      "\tStudent Name: Harry\n",
      "\tStudent Name: Isla\n"
     ]
    }
   ],
   "source": [
    "var students = from e1 in Data.GetQualificationList()\n",
    "                           join e2 in Data.GetStudentList()\n",
    "                           on e1.Label equals e2.Label\n",
    "                           into egroup\n",
    "                           select new { Qualification = e1.Name, StudentGroup = egroup }; \n",
    "\n",
    "foreach (var labelgroup in students)\n",
    "{\n",
    "  Console.WriteLine(\"Label Group: {0}\", labelgroup.Qualification);\n",
    "\n",
    "  foreach (Data.Student s in labelgroup.StudentGroup)\n",
    "         Console.WriteLine(\"\\tStudent Name: {0}\", s.StudentName);\n",
    "}"
   ]
  },
  {
   "cell_type": "markdown",
   "metadata": {},
   "source": [
    "# Average"
   ]
  },
  {
   "cell_type": "code",
   "execution_count": 16,
   "metadata": {},
   "outputs": [
    {
     "name": "stdout",
     "output_type": "stream",
     "text": [
      "Student Average Age: 20\n"
     ]
    }
   ],
   "source": [
    " var avg = Data.GetStudentList().Average(s => s.Age);\n",
    "\n",
    "Console.WriteLine(\"Student Average Age: {0}\", avg)"
   ]
  },
  {
   "cell_type": "markdown",
   "metadata": {},
   "source": [
    "### with query syntax"
   ]
  },
  {
   "cell_type": "code",
   "execution_count": 29,
   "metadata": {},
   "outputs": [
    {
     "name": "stdout",
     "output_type": "stream",
     "text": [
      "Student Average Age: 20\n"
     ]
    }
   ],
   "source": [
    "var avg2 = (from s in Data.GetStudentList() select s.Age).Average();\n",
    "\n",
    "Console.WriteLine(\"Student Average Age: {0}\", avg2)"
   ]
  },
  {
   "cell_type": "markdown",
   "metadata": {},
   "source": [
    "# Maximum and Minimum"
   ]
  },
  {
   "cell_type": "code",
   "execution_count": 17,
   "metadata": {},
   "outputs": [
    {
     "name": "stdout",
     "output_type": "stream",
     "text": [
      "Student Maximum Age: 24\n"
     ]
    }
   ],
   "source": [
    "var max = Data.GetStudentList().Max(s => s.Age);\n",
    "\n",
    "Console.WriteLine(\"Student Maximum Age: {0}\", max);"
   ]
  },
  {
   "cell_type": "markdown",
   "metadata": {},
   "source": [
    "### with query syntax"
   ]
  },
  {
   "cell_type": "code",
   "execution_count": 31,
   "metadata": {},
   "outputs": [
    {
     "name": "stdout",
     "output_type": "stream",
     "text": [
      "Student Maximum Age: 24\n"
     ]
    }
   ],
   "source": [
    "var max2 = (from s in Data.GetStudentList() select s.Age).Max();\n",
    "\n",
    "Console.WriteLine(\"Student Maximum Age: {0}\", max2);"
   ]
  },
  {
   "cell_type": "code",
   "execution_count": null,
   "metadata": {},
   "outputs": [],
   "source": []
  },
  {
   "cell_type": "code",
   "execution_count": 20,
   "metadata": {},
   "outputs": [
    {
     "name": "stdout",
     "output_type": "stream",
     "text": [
      "Student Minimum Age: 17\n"
     ]
    }
   ],
   "source": [
    " var min = Data.GetStudentList().Min(s => s.Age);\n",
    "\n",
    "Console.WriteLine(\"Student Minimum Age: {0}\", min);"
   ]
  },
  {
   "cell_type": "code",
   "execution_count": null,
   "metadata": {},
   "outputs": [],
   "source": []
  },
  {
   "cell_type": "markdown",
   "metadata": {},
   "source": [
    "# Count"
   ]
  },
  {
   "cell_type": "code",
   "execution_count": 21,
   "metadata": {},
   "outputs": [
    {
     "name": "stdout",
     "output_type": "stream",
     "text": [
      "Number of students With Age upper than 18: 3\n"
     ]
    }
   ],
   "source": [
    "var nstudents = Data.GetStudentList().Count(s => s.Age > 18);\n",
    "\n",
    "Console.WriteLine(\"Number of students With Age upper than 18: {0}\", nstudents);"
   ]
  },
  {
   "cell_type": "markdown",
   "metadata": {},
   "source": [
    "### with query syntax"
   ]
  },
  {
   "cell_type": "code",
   "execution_count": 22,
   "metadata": {},
   "outputs": [
    {
     "name": "stdout",
     "output_type": "stream",
     "text": [
      "Number of students With Age upper than 18: 3\n"
     ]
    }
   ],
   "source": [
    " var nstudents = (from s in Data.GetStudentList() where s.Age > 18 select s).Count();\n",
    "\n",
    "Console.WriteLine(\"Number of students With Age upper than 18: {0}\", nstudents);"
   ]
  },
  {
   "cell_type": "markdown",
   "metadata": {},
   "source": [
    "# Let"
   ]
  },
  {
   "cell_type": "code",
   "execution_count": 23,
   "metadata": {},
   "outputs": [
    {
     "name": "stdout",
     "output_type": "stream",
     "text": [
      "Student name: Isla\n"
     ]
    }
   ],
   "source": [
    "var students = Data.GetStudentList().Where(s => s.StudentName.Contains(\"a\"))\n",
    "                                    .Select(s => new { Name = s.StudentName })\n",
    "                                    .Where(s => s.Name.ToString().Length <= 4)\n",
    "                                    .Select(s => s);\n",
    "\n",
    "students.ToList().ForEach(s => Console.WriteLine(\"Student name: {0}\", s.Name));"
   ]
  },
  {
   "cell_type": "markdown",
   "metadata": {},
   "source": [
    "### with query syntax"
   ]
  },
  {
   "cell_type": "code",
   "execution_count": 24,
   "metadata": {},
   "outputs": [
    {
     "name": "stdout",
     "output_type": "stream",
     "text": [
      "Student name: Isla\n"
     ]
    }
   ],
   "source": [
    "var students = from s in Data.GetStudentList() \n",
    "               where s.StudentName.Contains(\"a\") \n",
    "               let Name = s.StudentName \n",
    "               where Name.ToString().Length <= 4 \n",
    "               select Name;\n",
    "\n",
    "\n",
    "students.ToList().ForEach(s => Console.WriteLine(\"Student name: {0}\", s));"
   ]
  },
  {
   "cell_type": "code",
   "execution_count": null,
   "metadata": {},
   "outputs": [],
   "source": []
  },
  {
   "cell_type": "markdown",
   "metadata": {},
   "source": [
    "## Composite Keys"
   ]
  },
  {
   "cell_type": "code",
   "execution_count": 28,
   "metadata": {},
   "outputs": [
    {
     "name": "stdout",
     "output_type": "stream",
     "text": [
      "Student ID: 1 has the Nickname Bee\n",
      "Student ID: 1 has the Nickname Awesome\n",
      "Student ID: 3 has the Nickname Bully\n",
      "Student ID: 4 has the Nickname Cowboy\n"
     ]
    }
   ],
   "source": [
    "var students = Data.GetStudentList().Join(Data.GetStudentNickname(),\n",
    "                                           s => new { Name = s.StudentName, Age = s.StudentName },\n",
    "                                           n => new { Name = n.StudentName, Age = n.StudentName },\n",
    "                                           (s,n) => new { ID = s.StudentID, Nickname = n.Nickame });\n",
    "                                           \n",
    "students.ToList().ForEach(s => Console.WriteLine(\"Student ID: {0} has the Nickname {1}\", s.ID, s.Nickname));                                           "
   ]
  },
  {
   "cell_type": "markdown",
   "metadata": {},
   "source": [
    "### with query syntax"
   ]
  },
  {
   "cell_type": "code",
   "execution_count": 25,
   "metadata": {},
   "outputs": [
    {
     "name": "stdout",
     "output_type": "stream",
     "text": [
      "Student ID: 1 has the Nickname Bee\n",
      "Student ID: 1 has the Nickname Awesome\n",
      "Student ID: 3 has the Nickname Bully\n",
      "Student ID: 4 has the Nickname Cowboy\n"
     ]
    }
   ],
   "source": [
    "var students = from s in Data.GetStudentList()\n",
    "               join n in Data.GetStudentNickname()\n",
    "               on new { Name = s.StudentName, Age = s.StudentName } \n",
    "               equals new { Name = n.StudentName, Age = n.StudentName }\n",
    "               select new { ID = s.StudentID, Nickname = n.Nickame };\n",
    "\n",
    "\n",
    "students.ToList().ForEach(s => Console.WriteLine(\"Student ID: {0} has the Nickname {1}\", s.ID, s.Nickname));"
   ]
  },
  {
   "cell_type": "code",
   "execution_count": null,
   "metadata": {},
   "outputs": [],
   "source": []
  }
 ],
 "metadata": {
  "kernelspec": {
   "display_name": ".NET (C#)",
   "language": "C#",
   "name": ".net-csharp"
  },
  "language_info": {
   "file_extension": ".cs",
   "mimetype": "text/x-csharp",
   "name": "C#",
   "pygments_lexer": "csharp",
   "version": "8.0"
  },
  "toc": {
   "base_numbering": 1,
   "nav_menu": {},
   "number_sections": false,
   "sideBar": false,
   "skip_h1_title": false,
   "title_cell": "Table of Contents",
   "title_sidebar": "Contents",
   "toc_cell": false,
   "toc_position": {},
   "toc_section_display": false,
   "toc_window_display": false
  }
 },
 "nbformat": 4,
 "nbformat_minor": 2
}
