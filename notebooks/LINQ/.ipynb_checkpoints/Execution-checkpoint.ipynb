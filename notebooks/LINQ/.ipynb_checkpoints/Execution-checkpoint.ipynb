{
 "cells": [
  {
   "cell_type": "code",
   "execution_count": 1,
   "metadata": {},
   "outputs": [],
   "source": [
    "using System.Collections.Generic;\n",
    "\n",
    "public static class Data\n",
    "    {\n",
    "\n",
    "        public struct Student\n",
    "        {\n",
    "            public int StudentID;\n",
    "            public string StudentName;\n",
    "            public int Age;\n",
    "            public int Label;\n",
    "\n",
    "        }\n",
    "\n",
    "        public struct Qualification\n",
    "        {\n",
    "            public int Label;\n",
    "            public string Name;\n",
    "        }\n",
    "\n",
    "\n",
    "        public static List<Student> GetStudentList()\n",
    "        {\n",
    "            List<Student> list = new List<Student>()\n",
    "            {\n",
    "                new Student() { StudentID = 1, StudentName = \"Maria\", Age = 17, Label = 1 } ,\n",
    "                new Student() { StudentID = 2, StudentName = \"Oliver\",  Age = 24, Label = 1 } ,\n",
    "                new Student() { StudentID = 3, StudentName = \"Harry\",  Age = 18, Label = 3 } ,\n",
    "                new Student() { StudentID = 4, StudentName = \"George\" , Age = 20, Label= 2 } ,\n",
    "                new Student() { StudentID = 5, StudentName = \"Isla\" , Age = 21 , Label=3}\n",
    "            };\n",
    "\n",
    "            return list;\n",
    "        }\n",
    "\n",
    "\n",
    "        public static List<Qualification> GetQualificationList()\n",
    "        {\n",
    "            return new List<Qualification>() {\n",
    "                new Qualification(){ Label = 1, Name=\"Excelent\"},\n",
    "                new Qualification(){ Label = 2, Name=\"Good\"},\n",
    "                new Qualification(){ Label = 3, Name=\"Medium\"}\n",
    "            };\n",
    "        }\n",
    "\n",
    "    }"
   ]
  },
  {
   "cell_type": "markdown",
   "metadata": {},
   "source": [
    "# Deferred execution"
   ]
  },
  {
   "cell_type": "code",
   "execution_count": 2,
   "metadata": {},
   "outputs": [
    {
     "name": "stdout",
     "output_type": "stream",
     "text": [
      "Found student: George\n",
      "Found student: Isla\n"
     ]
    }
   ],
   "source": [
    "var students = Data.GetStudentList().Where(s => s.Age >= 20 && s.Age < 22).Select(s => s);\n",
    "\n",
    "// operation starts when expression is evaluated in foreach loop\n",
    "\n",
    "            foreach (var student in students)\n",
    "            {\n",
    "                Console.WriteLine(\"Found student: {0}\", student.StudentName);\n",
    "            }"
   ]
  },
  {
   "cell_type": "markdown",
   "metadata": {},
   "source": [
    "# Immediate execution"
   ]
  },
  {
   "cell_type": "code",
   "execution_count": null,
   "metadata": {},
   "outputs": [],
   "source": [
    " var students = Data.GetStudentList().Where(s => s.Age >= 20 && s.Age < 22).Select(s => s).ToList();\n",
    "\n",
    "// LINQ operation already occured when ToList() method was called.\n",
    "\n",
    "            Console.WriteLine(\"Number elements: {0}\", students.Count());\n",
    "\n",
    "            students.ForEach(s => Console.WriteLine(\"Student Name: {0}\", s.StudentName));"
   ]
  }
 ],
 "metadata": {
  "kernelspec": {
   "display_name": ".NET (C#)",
   "language": "C#",
   "name": ".net-csharp"
  },
  "language_info": {
   "file_extension": ".cs",
   "mimetype": "text/x-csharp",
   "name": "C#",
   "pygments_lexer": "csharp",
   "version": "8.0"
  },
  "toc": {
   "base_numbering": 1,
   "nav_menu": {},
   "number_sections": false,
   "sideBar": false,
   "skip_h1_title": false,
   "title_cell": "Table of Contents",
   "title_sidebar": "Contents",
   "toc_cell": false,
   "toc_position": {},
   "toc_section_display": false,
   "toc_window_display": false
  }
 },
 "nbformat": 4,
 "nbformat_minor": 2
}
