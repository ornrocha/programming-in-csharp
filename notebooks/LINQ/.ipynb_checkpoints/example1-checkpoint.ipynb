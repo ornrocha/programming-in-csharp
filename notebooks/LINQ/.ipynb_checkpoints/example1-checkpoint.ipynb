{
 "cells": [
  {
   "cell_type": "code",
   "execution_count": null,
   "metadata": {},
   "outputs": [],
   "source": []
  },
  {
   "cell_type": "code",
   "execution_count": 1,
   "metadata": {},
   "outputs": [],
   "source": [
    "struct Student\n",
    "{\n",
    "  public int StudentID;\n",
    "  public string StudentName;\n",
    "  public int Age;\n",
    "  public int Label;\n",
    "\n",
    "}\n",
    "\n",
    "\n",
    "struct Qualification\n",
    "{\n",
    "  public int Label;\n",
    "  public string Name;\n",
    "}"
   ]
  },
  {
   "cell_type": "code",
   "execution_count": 11,
   "metadata": {},
   "outputs": [],
   "source": [
    "List<string> mylist = new List<string>();"
   ]
  },
  {
   "cell_type": "code",
   "execution_count": 2,
   "metadata": {},
   "outputs": [],
   "source": [
    "IList<Student> studentList = new List<Student>() { \n",
    "    new Student() { StudentID = 1, StudentName = \"Maria\", Age = 18, Label = 1 } ,\n",
    "    new Student() { StudentID = 2, StudentName = \"Oliver\",  Age = 21, Label = 1 } ,\n",
    "    new Student() { StudentID = 3, StudentName = \"Harry\",  Age = 18, Label = 3 } ,\n",
    "    new Student() { StudentID = 4, StudentName = \"George\" , Age = 20, Label= 2 } ,\n",
    "    new Student() { StudentID = 5, StudentName = \"Isla\" , Age = 21 } \n",
    "};"
   ]
  },
  {
   "cell_type": "code",
   "execution_count": 3,
   "metadata": {},
   "outputs": [],
   "source": [
    "IList<Qualification> QualificationList = new List<Qualification>() { \n",
    "    new Qualification(){ Label = 1, Name=\"Excelent\"},\n",
    "    new Qualification(){ Label = 2, Name=\"Good\"},\n",
    "    new Qualification(){ Label = 3, Name=\"Medium\"}\n",
    "};"
   ]
  },
  {
   "cell_type": "code",
   "execution_count": 4,
   "metadata": {},
   "outputs": [
    {
     "name": "stdout",
     "output_type": "stream",
     "text": [
      "Oliver\n",
      "Isla\n"
     ]
    }
   ],
   "source": [
    "var filter1 = studentList.Where(s => s.Age > 20)\n",
    "                              .Select(s => s);\n",
    "                              \n",
    "filter1.ToList().ForEach(s => Console.WriteLine(s.StudentName));   "
   ]
  },
  {
   "cell_type": "code",
   "execution_count": 5,
   "metadata": {},
   "outputs": [
    {
     "name": "stdout",
     "output_type": "stream",
     "text": [
      "Oliver\n",
      "Isla\n"
     ]
    }
   ],
   "source": [
    "var filter1 = from s in studentList where s.Age > 20 select s;\n",
    "\n",
    "filter1.ToList().ForEach(s => Console.WriteLine(s.StudentName)); "
   ]
  },
  {
   "cell_type": "code",
   "execution_count": 8,
   "metadata": {},
   "outputs": [
    {
     "ename": "Unhandled Exception",
     "evalue": "(1,50): error CS1001: Identifier expected",
     "output_type": "error",
     "traceback": [
      "(1,50): error CS1001: Identifier expected"
     ]
    }
   ],
   "source": [
    "var qualificationName = studentList.Where(s => s.);"
   ]
  },
  {
   "cell_type": "code",
   "execution_count": 9,
   "metadata": {},
   "outputs": [
    {
     "ename": "Unhandled Exception",
     "evalue": "(2,32): error CS1061: 'Student' does not contain a definition for 'age' and no accessible extension method 'age' accepting a first argument of type 'Student' could be found (are you missing a using directive or an assembly reference?)\n(2,46): error CS1061: 'Student' does not contain a definition for 'age' and no accessible extension method 'age' accepting a first argument of type 'Student' could be found (are you missing a using directive or an assembly reference?)",
     "output_type": "error",
     "traceback": [
      "(2,32): error CS1061: 'Student' does not contain a definition for 'age' and no accessible extension method 'age' accepting a first argument of type 'Student' could be found (are you missing a using directive or an assembly reference?)\n(2,46): error CS1061: 'Student' does not contain a definition for 'age' and no accessible extension method 'age' accepting a first argument of type 'Student' could be found (are you missing a using directive or an assembly reference?)"
     ]
    }
   ],
   "source": [
    "var qualificationName = from s in studentList\n",
    "                       where s.age > 12 && s.age < 20\n",
    "                       select new { StudentName = s.StudentName };"
   ]
  },
  {
   "cell_type": "code",
   "execution_count": null,
   "metadata": {},
   "outputs": [],
   "source": []
  },
  {
   "cell_type": "code",
   "execution_count": null,
   "metadata": {},
   "outputs": [],
   "source": []
  }
 ],
 "metadata": {
  "kernelspec": {
   "display_name": ".NET (C#)",
   "language": "C#",
   "name": ".net-csharp"
  },
  "language_info": {
   "file_extension": ".cs",
   "mimetype": "text/x-csharp",
   "name": "C#",
   "pygments_lexer": "csharp",
   "version": "8.0"
  },
  "toc": {
   "base_numbering": 1,
   "nav_menu": {},
   "number_sections": false,
   "sideBar": false,
   "skip_h1_title": false,
   "title_cell": "Table of Contents",
   "title_sidebar": "Contents",
   "toc_cell": false,
   "toc_position": {},
   "toc_section_display": false,
   "toc_window_display": false
  }
 },
 "nbformat": 4,
 "nbformat_minor": 2
}
