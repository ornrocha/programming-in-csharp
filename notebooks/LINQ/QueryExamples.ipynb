{
 "cells": [
  {
   "cell_type": "code",
   "execution_count": 1,
   "metadata": {},
   "outputs": [],
   "source": [
    "using System;\n",
    "using System.Collections.Generic;"
   ]
  },
  {
   "cell_type": "code",
   "execution_count": 2,
   "metadata": {},
   "outputs": [],
   "source": [
    "public static class Data\n",
    "{\n",
    "\n",
    "        public struct Student\n",
    "        {\n",
    "            public int StudentID;\n",
    "            public string StudentName;\n",
    "            public int Age;\n",
    "            public int Label;\n",
    "\n",
    "        }\n",
    "\n",
    "        public struct Qualification\n",
    "        {\n",
    "            public int Label;\n",
    "            public string Name;\n",
    "        }\n",
    "\n",
    "\n",
    "        public static List<Student> GetStudentList()\n",
    "        {\n",
    "            List<Student> list = new List<Student>()\n",
    "            {\n",
    "                new Student() { StudentID = 1, StudentName = \"Maria\", Age = 18, Label = 1 } ,\n",
    "                new Student() { StudentID = 2, StudentName = \"Oliver\",  Age = 21, Label = 1 } ,\n",
    "                new Student() { StudentID = 3, StudentName = \"Harry\",  Age = 18, Label = 3 } ,\n",
    "                new Student() { StudentID = 4, StudentName = \"George\" , Age = 20, Label= 2 } ,\n",
    "                new Student() { StudentID = 5, StudentName = \"Isla\" , Age = 21 , Label=3}\n",
    "            };\n",
    "\n",
    "            return list;\n",
    "        }\n",
    "\n",
    "\n",
    "        public static List<Qualification> GetQualificationList()\n",
    "        {\n",
    "            return new List<Qualification>() {\n",
    "                new Qualification(){ Label = 1, Name=\"Excelent\"},\n",
    "                new Qualification(){ Label = 2, Name=\"Good\"},\n",
    "                new Qualification(){ Label = 3, Name=\"Medium\"}\n",
    "            };\n",
    "        }\n",
    "\n",
    "}"
   ]
  },
  {
   "cell_type": "markdown",
   "metadata": {},
   "source": [
    "# Select students with age upper than 20 "
   ]
  },
  {
   "cell_type": "markdown",
   "metadata": {},
   "source": [
    "### Using method syntax"
   ]
  },
  {
   "cell_type": "code",
   "execution_count": 4,
   "metadata": {},
   "outputs": [
    {
     "name": "stdout",
     "output_type": "stream",
     "text": [
      "Oliver\n",
      "Isla\n"
     ]
    }
   ],
   "source": [
    "var filter = Data.GetStudentList().Where(s => s.Age > 20).Select(s => s);\n",
    "\n",
    "filter.ToList().ForEach(s => Console.WriteLine(s.StudentName));"
   ]
  },
  {
   "cell_type": "markdown",
   "metadata": {},
   "source": [
    "### Using query syntax"
   ]
  },
  {
   "cell_type": "code",
   "execution_count": 5,
   "metadata": {},
   "outputs": [
    {
     "name": "stdout",
     "output_type": "stream",
     "text": [
      "Oliver\n",
      "Isla\n"
     ]
    }
   ],
   "source": [
    "var filter = from s in Data.GetStudentList() where s.Age > 20 select s;\n",
    "\n",
    "filter.ToList().ForEach(s => Console.WriteLine(s.StudentName));"
   ]
  },
  {
   "cell_type": "markdown",
   "metadata": {},
   "source": [
    "# Get name of the students and the respective qualification "
   ]
  },
  {
   "cell_type": "markdown",
   "metadata": {},
   "source": [
    "### Using method syntax"
   ]
  },
  {
   "cell_type": "code",
   "execution_count": 7,
   "metadata": {},
   "outputs": [
    {
     "name": "stdout",
     "output_type": "stream",
     "text": [
      "Name: Maria => Qualification: Excelent\n",
      "Name: Oliver => Qualification: Excelent\n",
      "Name: Harry => Qualification: Medium\n",
      "Name: George => Qualification: Good\n",
      "Name: Isla => Qualification: Medium\n"
     ]
    }
   ],
   "source": [
    "var innerjoin = Data.GetStudentList().Join(Data.GetQualificationList(),\n",
    "                     e1 => e1.Label,\n",
    "                     e2 => e2.Label,\n",
    "                     (e1, e2) => new\n",
    "                     {\n",
    "                         Student = e1.StudentName,\n",
    "                         QualificationName = e2.Name\n",
    "\n",
    "                     }\n",
    "\n",
    "                );\n",
    "\n",
    "innerjoin.ToList().ForEach(s => Console.WriteLine(\"Name: {0} => Qualification: {1}\", s.Student, s.QualificationName));"
   ]
  },
  {
   "cell_type": "markdown",
   "metadata": {},
   "source": [
    "### Using query syntax"
   ]
  },
  {
   "cell_type": "markdown",
   "metadata": {},
   "source": [
    "## QueryStudendWithLabelGreater2"
   ]
  },
  {
   "cell_type": "code",
   "execution_count": 9,
   "metadata": {},
   "outputs": [
    {
     "name": "stdout",
     "output_type": "stream",
     "text": [
      "Name: Harry => Qualification: Medium\n",
      "Name: Isla => Qualification: Medium\n"
     ]
    }
   ],
   "source": [
    "var innerjoin = Data.GetStudentList().Join(Data.GetQualificationList(),\n",
    "                     e1 => e1.Label,\n",
    "                     e2 => e2.Label,\n",
    "                     (e1, e2) => new\n",
    "                     {\n",
    "                         e1,e2\n",
    "                     }\n",
    "\n",
    "                ).Where(s => s.e1.Label > 2)\n",
    "                 .Select(s => new {\n",
    "                    Student = s.e1.StudentName,\n",
    "                    QualificationName = s.e2.Name\n",
    "                   });\n",
    "\n",
    "innerjoin.ToList().ForEach(s => Console.WriteLine(\"Name: {0} => Qualification: {1}\", s.Student, s.QualificationName));"
   ]
  },
  {
   "cell_type": "code",
   "execution_count": 10,
   "metadata": {},
   "outputs": [
    {
     "name": "stdout",
     "output_type": "stream",
     "text": [
      "Name: Harry => Qualification: Medium\n",
      "Name: Isla => Qualification: Medium\n"
     ]
    }
   ],
   "source": [
    "var innerjoin = from e1 in Data.GetStudentList()\n",
    "                            join e2 in Data.GetQualificationList()\n",
    "                               on e1.Label equals e2.Label\n",
    "                            where e1.Label > 2\n",
    "                            select new\n",
    "                            {\n",
    "                                Student = e1.StudentName,\n",
    "                                QualificationName = e2.Name\n",
    "\n",
    "                            };\n",
    "\n",
    "innerjoin.ToList().ForEach(s => Console.WriteLine(\"Name: {0} => Qualification: {1}\", s.Student, s.QualificationName));"
   ]
  },
  {
   "cell_type": "code",
   "execution_count": null,
   "metadata": {},
   "outputs": [],
   "source": []
  },
  {
   "cell_type": "code",
   "execution_count": 11,
   "metadata": {},
   "outputs": [
    {
     "name": "stdout",
     "output_type": "stream",
     "text": [
      "Label: 1\n",
      "Student: Maria\n",
      "Student: Oliver\n",
      "Label: 2\n",
      "Student: George\n",
      "Label: 3\n",
      "Student: Harry\n",
      "Student: Isla\n"
     ]
    }
   ],
   "source": [
    " var groupz = Data.GetStudentList().GroupBy(s => s.Label).Select(group => new { Label = group.Key, Students=group.OrderBy(x => x.StudentName)}).OrderBy( item => item.Label);\n",
    "\n",
    "            foreach( var s in groupz)\n",
    "            {\n",
    "                Console.WriteLine(\"Label: {0}\", s.Label);\n",
    "                foreach(var x in s.Students)\n",
    "                {\n",
    "                    Console.WriteLine(\"Student: {0}\", x.StudentName);\n",
    "                }\n",
    "            }"
   ]
  },
  {
   "cell_type": "code",
   "execution_count": 12,
   "metadata": {},
   "outputs": [
    {
     "name": "stdout",
     "output_type": "stream",
     "text": [
      "Label: 1\n",
      "Student: Maria\n",
      "Student: Oliver\n",
      "Label: 2\n",
      "Student: George\n",
      "Label: 3\n",
      "Student: Harry\n",
      "Student: Isla\n"
     ]
    }
   ],
   "source": [
    " var groupz = from s in Data.GetStudentList() group s by s.Label into sg orderby sg.Key select new { Label = sg.Key,  Students=sg};\n",
    "\n",
    "            foreach (var s in groupz)\n",
    "            {\n",
    "                Console.WriteLine(\"Label: {0}\", s.Label);\n",
    "                foreach (var x in s.Students)\n",
    "                {\n",
    "                    Console.WriteLine(\"Student: {0}\", x.StudentName);\n",
    "                }\n",
    "            }"
   ]
  },
  {
   "cell_type": "code",
   "execution_count": null,
   "metadata": {},
   "outputs": [],
   "source": []
  }
 ],
 "metadata": {
  "kernelspec": {
   "display_name": ".NET (C#)",
   "language": "C#",
   "name": ".net-csharp"
  },
  "language_info": {
   "file_extension": ".cs",
   "mimetype": "text/x-csharp",
   "name": "C#",
   "pygments_lexer": "csharp",
   "version": "8.0"
  },
  "toc": {
   "base_numbering": 1,
   "nav_menu": {},
   "number_sections": false,
   "sideBar": false,
   "skip_h1_title": false,
   "title_cell": "Table of Contents",
   "title_sidebar": "Contents",
   "toc_cell": false,
   "toc_position": {},
   "toc_section_display": false,
   "toc_window_display": false
  }
 },
 "nbformat": 4,
 "nbformat_minor": 2
}
