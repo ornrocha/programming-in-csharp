{
 "cells": [
  {
   "cell_type": "markdown",
   "metadata": {},
   "source": [
    "# Methods to be called by Task examples"
   ]
  },
  {
   "cell_type": "code",
   "execution_count": 1,
   "metadata": {},
   "outputs": [],
   "source": [
    "using System.Threading.Tasks;\n",
    "\n",
    "\n",
    "private static void TaskOne()\n",
    "{\n",
    "    for (int i = 0; i < 10; i++)\n",
    "    {\n",
    "        Console.WriteLine(\"Task 1 step: {0}\", i);\n",
    "        if (i == 9)\n",
    "            Console.WriteLine(\"#### Task 1 finished ####\");\n",
    "    }\n",
    "}\n",
    "\n",
    "\n",
    "private static void TaskTwo()\n",
    "{\n",
    "    for (int i = 0; i < 10; i++)\n",
    "    {\n",
    "        Console.WriteLine(\"Task 2 step: {0}\", i);\n",
    "        if (i == 9)\n",
    "            Console.WriteLine(\"#### task 2 finished ####\");\n",
    "    }\n",
    "}\n",
    "\n",
    "\n",
    "private static void TaskThree()\n",
    "{\n",
    "    for (int i = 0; i < 10; i++)\n",
    "    {\n",
    "        Console.WriteLine(\"Task 3 step: {0}\", i);\n",
    "        if (i == 9)\n",
    "            Console.WriteLine(\"#### task 3 finished ####\");\n",
    "    }\n",
    "}\n",
    "\n",
    "\n",
    "private static int TaskWithResult()\n",
    "{\n",
    "    int count = 0;\n",
    "    \n",
    "    for (int i = 0; i < 10; i++)\n",
    "    {\n",
    "        count++;\n",
    "        Console.WriteLine(\"Task with result step: {0}\", i);\n",
    "        if (i == 9)\n",
    "            Console.WriteLine(\"#### task with result finished ####\");\n",
    "        \n",
    "    }\n",
    "    \n",
    "    return count;\n",
    "}\n",
    "\n",
    "private static void TaskX(int n)\n",
    "{\n",
    "    for (int i = 0; i < 10; i++)\n",
    "    {\n",
    "        Console.WriteLine(\"Task {0} step: {1}\", n, i);\n",
    "        if (i == 9)\n",
    "            Console.WriteLine(\"#### Task {0} finished ####\", n);\n",
    "    }\n",
    "}\n",
    "\n"
   ]
  },
  {
   "cell_type": "markdown",
   "metadata": {},
   "source": [
    "# Create a Task"
   ]
  },
  {
   "cell_type": "code",
   "execution_count": 2,
   "metadata": {},
   "outputs": [
    {
     "name": "stdout",
     "output_type": "stream",
     "text": [
      "Main thread step: 0\n",
      "Main thread step: 1\n",
      "Main thread step: 2\n",
      "Main thread step: 3\n",
      "Main thread step: 4\n",
      "Main thread step: 5\n",
      "Main thread step: 6\n",
      "Main thread step: 7\n",
      "Main thread step: 8\n",
      "Main thread step: 9\n",
      "Task 1 step: 0\n"
     ]
    }
   ],
   "source": [
    "Task t = new Task(TaskOne);\n",
    "t.Start();\n",
    "\n",
    "for (int i = 0; i < 10; i++)\n",
    "{\n",
    "    Console.WriteLine(\"Main thread step: {0}\", i);\n",
    "}"
   ]
  },
  {
   "cell_type": "code",
   "execution_count": 3,
   "metadata": {},
   "outputs": [
    {
     "name": "stdout",
     "output_type": "stream",
     "text": [
      "Task 1 step: 0\n",
      "Task 1 step: 1\n",
      "Task 1 step: 2\n",
      "Task 1 step: 3\n",
      "Task 1 step: 4\n",
      "Task 1 step: 5\n",
      "Task 1 step: 6\n",
      "Task 1 step: 7\n",
      "Task 1 step: 8\n",
      "Task 1 step: 9\n",
      "#### Task 1 finished ####\n",
      "Main thread step: 0\n",
      "Main thread step: 1\n",
      "Main thread step: 2\n",
      "Main thread step: 3\n",
      "Main thread step: 4\n",
      "Main thread step: 5\n",
      "Main thread step: 6\n",
      "Main thread step: 7\n",
      "Main thread step: 8\n",
      "Main thread step: 9\n"
     ]
    }
   ],
   "source": [
    "Task t = new Task(TaskOne);\n",
    "t.Start();\n",
    "t.Wait();\n",
    "\n",
    "for (int i = 0; i < 10; i++)\n",
    "{\n",
    "    Console.WriteLine(\"Main thread step: {0}\", i);\n",
    "}"
   ]
  },
  {
   "cell_type": "markdown",
   "metadata": {},
   "source": [
    "### Using a lambda function"
   ]
  },
  {
   "cell_type": "code",
   "execution_count": 3,
   "metadata": {},
   "outputs": [
    {
     "name": "stdout",
     "output_type": "stream",
     "text": [
      "Task 1 step: 0\n",
      "Task 1 step: 1\n",
      "Task 1 step: 2\n",
      "Task 1 step: 3\n",
      "Task 1 step: 4\n",
      "Task 1 step: 5\n",
      "Task 1 step: 6\n",
      "Task 1 step: 7\n",
      "Task 1 step: 8\n",
      "Task 1 step: 9\n",
      "#### Task 1 finished ####\n"
     ]
    }
   ],
   "source": [
    "Task t = new Task(() => TaskOne());\n",
    "t.Start();\n",
    "t.Wait();"
   ]
  },
  {
   "cell_type": "code",
   "execution_count": null,
   "metadata": {},
   "outputs": [],
   "source": []
  },
  {
   "cell_type": "code",
   "execution_count": 5,
   "metadata": {},
   "outputs": [
    {
     "name": "stdout",
     "output_type": "stream",
     "text": [
      "Task 1 step: 0\n"
     ]
    }
   ],
   "source": [
    "Task t1 = new Task(TaskOne);\n",
    "t1.Start();\n",
    "\n",
    "Task t2 = new Task(TaskTwo);\n",
    "t2.Start();"
   ]
  },
  {
   "cell_type": "markdown",
   "metadata": {},
   "source": [
    "# Task.Run"
   ]
  },
  {
   "cell_type": "code",
   "execution_count": 4,
   "metadata": {},
   "outputs": [
    {
     "name": "stdout",
     "output_type": "stream",
     "text": [
      "Task 1 step: 0\n",
      "Task 1 step: 1\n",
      "Task 1 step: 2\n",
      "Task 1 step: 3\n",
      "Task 1 step: 4\n",
      "Task 1 step: 5\n",
      "Task 1 step: 6\n",
      "Task 1 step: 7\n",
      "Task 1 step: 8\n",
      "Task 1 step: 9\n",
      "#### Task 1 finished ####\n",
      "Main thread step: 0\n",
      "Main thread step: 1\n",
      "Main thread step: 2\n",
      "Main thread step: 3\n",
      "Main thread step: 4\n",
      "Main thread step: 5\n",
      "Main thread step: 6\n",
      "Main thread step: 7\n",
      "Main thread step: 8\n",
      "Main thread step: 9\n"
     ]
    }
   ],
   "source": [
    "Task t = Task.Run(TaskOne);\n",
    "\n",
    "t.Wait();\n",
    "\n",
    "// t.Start(); <-- is removed\n",
    "\n",
    "for (int i = 0; i < 10; i++)\n",
    "{\n",
    "    Console.WriteLine(\"Main thread step: {0}\", i);\n",
    "}"
   ]
  },
  {
   "cell_type": "markdown",
   "metadata": {},
   "source": [
    "## Task.Factory.StartNew for creating and starting a task saves performance cost"
   ]
  },
  {
   "cell_type": "code",
   "execution_count": 3,
   "metadata": {},
   "outputs": [
    {
     "name": "stdout",
     "output_type": "stream",
     "text": [
      "Task 1 step: 0\n",
      "Task 1 step: 1\n",
      "Task 1 step: 2\n",
      "Task 1 step: 3\n",
      "Task 1 step: 4\n",
      "Task 1 step: 5\n",
      "Task 1 step: 6\n",
      "Task 1 step: 7\n",
      "Task 1 step: 8\n",
      "Task 1 step: 9\n",
      "#### Task 1 finished ####\n",
      "Main thread step: 0\n",
      "Main thread step: 1\n",
      "Main thread step: 2\n",
      "Main thread step: 3\n",
      "Main thread step: 4\n",
      "Main thread step: 5\n",
      "Main thread step: 6\n",
      "Main thread step: 7\n",
      "Main thread step: 8\n",
      "Main thread step: 9\n"
     ]
    }
   ],
   "source": [
    "Task t = Task.Factory.StartNew(TaskOne);\n",
    "t.Wait();           \n",
    "\n",
    "// t.Start(); <-- is removed\n",
    "\n",
    "\n",
    "for (int i = 0; i < 10; i++)\n",
    "{\n",
    "    Console.WriteLine(\"Main thread step: {0}\", i);\n",
    "}"
   ]
  },
  {
   "cell_type": "markdown",
   "metadata": {},
   "source": [
    "## Use Lambda Expression"
   ]
  },
  {
   "cell_type": "code",
   "execution_count": 5,
   "metadata": {},
   "outputs": [
    {
     "name": "stdout",
     "output_type": "stream",
     "text": [
      "Task 3 step: 0\n",
      "Task 3 step: 1\n",
      "Task 3 step: 2\n",
      "Task 3 step: 3\n",
      "Task 3 step: 4\n",
      "Task 3 step: 5\n",
      "Task 3 step: 6\n",
      "Task 3 step: 7\n",
      "Task 3 step: 8\n",
      "Task 3 step: 9\n",
      "#### Task 3 finished ####\n",
      "Main thread step: 0\n",
      "Main thread step: 1\n",
      "Main thread step: 2\n",
      "Main thread step: 3\n",
      "Main thread step: 4\n",
      "Main thread step: 5\n",
      "Main thread step: 6\n",
      "Main thread step: 7\n",
      "Main thread step: 8\n",
      "Main thread step: 9\n"
     ]
    }
   ],
   "source": [
    "Task t = Task.Factory.StartNew(() => {\n",
    "\n",
    "   for (int i = 0; i < 10; i++)\n",
    "    {\n",
    "        Console.WriteLine(\"Task 3 step: {0}\", i);\n",
    "        if (i == 9)\n",
    "            Console.WriteLine(\"#### Task 3 finished ####\");\n",
    "    }\n",
    "    \n",
    "  }\n",
    ");\n",
    "\n",
    "t.Wait(); \n",
    "\n",
    "\n",
    "for (int i = 0; i < 10; i++)\n",
    "{\n",
    "    Console.WriteLine(\"Main thread step: {0}\", i);\n",
    "}"
   ]
  },
  {
   "cell_type": "markdown",
   "metadata": {},
   "source": [
    "# Nested Task"
   ]
  },
  {
   "cell_type": "markdown",
   "metadata": {},
   "source": [
    "## Detached child tasks"
   ]
  },
  {
   "cell_type": "code",
   "execution_count": 3,
   "metadata": {},
   "outputs": [
    {
     "name": "stdout",
     "output_type": "stream",
     "text": [
      "In Task step: 0\n",
      "In Task step: 1\n",
      "In Task step: 2\n",
      "In Task step: 3\n",
      "In Task step: 4\n",
      "In Task step: 5\n",
      "In Task step: 6\n",
      "In Task step: 7\n",
      "In Task step: 8\n",
      "In Task step: 9\n",
      "#### In Task finished ####\n",
      "Out Task step: 0\n",
      "Out Task step: 1\n",
      "Out Task step: 2\n",
      "Out Task step: 3\n",
      "Out Task step: 4\n",
      "Out Task step: 5\n",
      "Out Task step: 6\n",
      "Out Task step: 7\n",
      "Out Task step: 8\n",
      "Out Task step: 9\n",
      "#### Out Task finished ####\n"
     ]
    }
   ],
   "source": [
    "Task tout = Task.Factory.StartNew(() => {\n",
    "\n",
    "    Task tin = Task.Factory.StartNew(() => {\n",
    "  \n",
    "       for (int i = 0; i < 10; i++)\n",
    "       {\n",
    "        Console.WriteLine(\"In Task step: {0}\", i);\n",
    "        if (i == 9)\n",
    "            Console.WriteLine(\"#### In Task finished ####\");\n",
    "       }\n",
    "    \n",
    "    });\n",
    "    \n",
    "   tin.Wait();\n",
    "    \n",
    "   for (int i = 0; i < 10; i++)\n",
    "    {\n",
    "        Console.WriteLine(\"Out Task step: {0}\", i);\n",
    "        if (i == 9)\n",
    "            Console.WriteLine(\"#### Out Task finished ####\");\n",
    "    }\n",
    "    \n",
    "  }\n",
    ");\n",
    "\n",
    "\n",
    "tout.Wait(); "
   ]
  },
  {
   "cell_type": "markdown",
   "metadata": {},
   "source": [
    "## Attached child tasks"
   ]
  },
  {
   "cell_type": "code",
   "execution_count": 14,
   "metadata": {},
   "outputs": [
    {
     "ename": "Unhandled Exception",
     "evalue": "(13,25): error CS1593: Delegate 'Action<object?>' does not take 0 arguments\n(22,25): error CS1503: Argument 3: cannot convert from 'System.Threading.Tasks.TaskCreationOptions' to 'System.Threading.CancellationToken'",
     "output_type": "error",
     "traceback": [
      "(13,25): error CS1593: Delegate 'Action<object?>' does not take 0 arguments\n(22,25): error CS1503: Argument 3: cannot convert from 'System.Threading.Tasks.TaskCreationOptions' to 'System.Threading.CancellationToken'"
     ]
    }
   ],
   "source": [
    "var parent = Task.Factory.StartNew(() => {\n",
    "                \n",
    "    Console.WriteLine(\"Parent task started\");\n",
    "    for (int i = 0; i < 10; i++)\n",
    "    {\n",
    "\n",
    "         Console.WriteLine(\"Out Task step: {0}\", i);\n",
    "        if (i == 9)\n",
    "            Console.WriteLine(\"#### Out Task finished ####\");\n",
    "            \n",
    "        int taskn = i;\n",
    "        Task.Factory.StartNew(\n",
    "                        () => {\n",
    "                                 for (int i = 0; i < 10; i++)\n",
    "                                 {\n",
    "                                   Console.WriteLine(\"In Task step: {0}\", i);\n",
    "                                   if (i == 9)\n",
    "                                      Console.WriteLine(\"#### In Task finished ####\");\n",
    "                                 }\n",
    "                        }, \n",
    "                        TaskCreationOptions.AttachedToParent);\n",
    "    }\n",
    "});\n",
    "            \n",
    "parent.Wait();    \n",
    "Console.WriteLine(\"Parent finished.\");"
   ]
  },
  {
   "cell_type": "markdown",
   "metadata": {},
   "source": [
    "# Task \"<\"TResult\">\""
   ]
  },
  {
   "cell_type": "markdown",
   "metadata": {},
   "source": [
    "### Task that returns a value from function that is executed"
   ]
  },
  {
   "cell_type": "code",
   "execution_count": 3,
   "metadata": {},
   "outputs": [
    {
     "name": "stdout",
     "output_type": "stream",
     "text": [
      "Task 3 step: 0\n",
      "Task 3 step: 1\n",
      "Task 3 step: 2\n",
      "Task 3 step: 3\n",
      "Task 3 step: 4\n",
      "Task 3 step: 5\n",
      "Task 3 step: 6\n",
      "Task 3 step: 7\n",
      "Task 3 step: 8\n",
      "Task 3 step: 9\n",
      "#### task 3 finished ####\n",
      "\n",
      "Task loop 10 times\n",
      "\n",
      "\n",
      "Main thread step: 0\n",
      "Main thread step: 1\n",
      "Main thread step: 2\n",
      "Main thread step: 3\n",
      "Main thread step: 4\n",
      "Main thread step: 5\n",
      "Main thread step: 6\n",
      "Main thread step: 7\n",
      "Main thread step: 8\n",
      "Main thread step: 9\n"
     ]
    }
   ],
   "source": [
    " Task<int> t = Task.Run<int>(new Func<int>(TaskWithResult));\n",
    "            t.Wait();\n",
    "\n",
    "            int nruns = t.Result;\n",
    "            Console.WriteLine(\"\\nTask loop {0} times\\n\\n\", nruns);\n",
    "\n",
    "            for (int i = 0; i < 10; i++)\n",
    "            {\n",
    "                Console.WriteLine(\"Main thread step: {0}\", i);\n",
    "            }"
   ]
  },
  {
   "cell_type": "code",
   "execution_count": 4,
   "metadata": {},
   "outputs": [
    {
     "name": "stdout",
     "output_type": "stream",
     "text": [
      "Task 3 step: 0\n",
      "Task 3 step: 1\n",
      "Task 3 step: 2\n",
      "Task 3 step: 3\n",
      "Task 3 step: 4\n",
      "Task 3 step: 5\n",
      "Task 3 step: 6\n",
      "Task 3 step: 7\n",
      "Task 3 step: 8\n",
      "Task 3 step: 9\n",
      "#### task 3 finished ####\n",
      "\n",
      "Task loop 10 times\n",
      "\n",
      "\n"
     ]
    }
   ],
   "source": [
    "Task<int> t = Task<int>.Factory.StartNew(TaskWithResult);\n",
    "t.Wait();\n",
    "\n",
    "int nruns = t.Result;\n",
    "Console.WriteLine(\"\\nTask loop {0} times\\n\\n\", nruns);"
   ]
  },
  {
   "cell_type": "code",
   "execution_count": 8,
   "metadata": {},
   "outputs": [
    {
     "name": "stdout",
     "output_type": "stream",
     "text": [
      "Task 3 step: 0\n",
      "Task 3 step: 1\n",
      "Task 3 step: 2\n",
      "Task 3 step: 3\n",
      "Task 3 step: 4\n",
      "Task 3 step: 5\n",
      "Task 3 step: 6\n",
      "Task 3 step: 7\n",
      "Task 3 step: 8\n",
      "Task 3 step: 9\n",
      "#### task 3 finished ####\n",
      "\n",
      "Task loop 10 times\n",
      "\n",
      "\n"
     ]
    }
   ],
   "source": [
    "Task<int> t = new Task<int>(TaskWithResult);\n",
    "t.Start();\n",
    "t.Wait();\n",
    "\n",
    "int nruns = t.Result;\n",
    "Console.WriteLine(\"\\nTask loop {0} times\\n\\n\", nruns);"
   ]
  },
  {
   "cell_type": "markdown",
   "metadata": {},
   "source": [
    "### Use Lambda Expression"
   ]
  },
  {
   "cell_type": "code",
   "execution_count": 6,
   "metadata": {},
   "outputs": [
    {
     "name": "stdout",
     "output_type": "stream",
     "text": [
      "Task with result step: 0\n",
      "Task with result step: 1\n",
      "Task with result step: 2\n",
      "Task with result step: 3\n",
      "Task with result step: 4\n",
      "Task with result step: 5\n",
      "Task with result step: 6\n",
      "Task with result step: 7\n",
      "Task with result step: 8\n",
      "Task with result step: 9\n",
      "#### task with result finished ####\n",
      "\n",
      "Task loop 10 times\n",
      "\n",
      "\n"
     ]
    }
   ],
   "source": [
    "Task<int> t = Task.Run(() =>\n",
    "{\n",
    "   return TaskWithResult();\n",
    "});\n",
    "\n",
    "int nruns = t.Result;\n",
    "Console.WriteLine(\"\\nTask loop {0} times\\n\\n\", nruns);"
   ]
  },
  {
   "cell_type": "code",
   "execution_count": 9,
   "metadata": {},
   "outputs": [
    {
     "name": "stdout",
     "output_type": "stream",
     "text": [
      "Task 3 step: 0\n",
      "Task 3 step: 1\n",
      "Task 3 step: 2\n",
      "Task 3 step: 3\n",
      "Task 3 step: 4\n",
      "Task 3 step: 5\n",
      "Task 3 step: 6\n",
      "Task 3 step: 7\n",
      "Task 3 step: 8\n",
      "Task 3 step: 9\n",
      "#### task 3 finished ####\n",
      "\n",
      "Task loop 10 times\n",
      "\n",
      "\n"
     ]
    }
   ],
   "source": [
    "Task<int> t = Task.Run<int>(()=>\n",
    "{\n",
    "    \n",
    "    int count = 0;\n",
    "    \n",
    "    for (int i = 0; i < 10; i++)\n",
    "    {\n",
    "        count++;\n",
    "        Console.WriteLine(\"Task 3 step: {0}\", i);\n",
    "        if (i == 9)\n",
    "            Console.WriteLine(\"#### task 3 finished ####\");\n",
    "        \n",
    "    }\n",
    "    \n",
    "    return count;\n",
    "});\n",
    "\n",
    "t.Wait();\n",
    "\n",
    "int nruns = t.Result;\n",
    "Console.WriteLine(\"\\nTask loop {0} times\\n\\n\", nruns);"
   ]
  },
  {
   "cell_type": "markdown",
   "metadata": {},
   "source": [
    "# Task.WaitAll"
   ]
  },
  {
   "cell_type": "code",
   "execution_count": 16,
   "metadata": {},
   "outputs": [
    {
     "name": "stdout",
     "output_type": "stream",
     "text": [
      "Task 3 step: 0\n",
      "Task 3 step: 1\n",
      "Task 3 step: 2\n",
      "Task 3 step: 3\n",
      "Task 3 step: 4\n",
      "Task 3 step: 5\n",
      "Task 3 step: 6\n",
      "Task 3 step: 7\n",
      "Task 3 step: 8\n",
      "Task 3 step: 9\n",
      "#### task 3 finished ####\n",
      "Task 1 step: 0\n",
      "Task 1 step: 1\n",
      "Task 1 step: 2\n",
      "Task 1 step: 3\n",
      "Task 1 step: 4\n",
      "Task 1 step: 5\n",
      "Task 1 step: 6\n",
      "Task 1 step: 7\n",
      "Task 1 step: 8\n",
      "Task 1 step: 9\n",
      "#### Task 1 finished ####\n",
      "Task 2 step: 0\n",
      "Task 2 step: 1\n",
      "Task 2 step: 2\n",
      "Task 2 step: 3\n",
      "Task 2 step: 4\n",
      "Task 2 step: 5\n",
      "Task 2 step: 6\n",
      "Task 2 step: 7\n",
      "Task 2 step: 8\n",
      "Task 2 step: 9\n",
      "#### task 2 finished ####\n",
      "Task with result step: 0\n",
      "Task with result step: 1\n",
      "Task with result step: 2\n",
      "Task with result step: 3\n",
      "Task with result step: 4\n",
      "Task with result step: 5\n",
      "Task with result step: 6\n",
      "Task with result step: 7\n",
      "Task with result step: 8\n",
      "Task with result step: 9\n",
      "#### task with result finished ####\n",
      "\n",
      "Task loop 10 times\n",
      "\n",
      "\n"
     ]
    }
   ],
   "source": [
    "Task t1 = Task.Factory.StartNew(TaskOne);\n",
    "Task t2 = Task.Run(TaskTwo);\n",
    "Task t3 = Task.Run(TaskThree);\n",
    "\n",
    "Task[] allTasks = { t1, t2, t3 };\n",
    "\n",
    "Task.WaitAll(allTasks);\n",
    "\n",
    "Task<int> t = Task<int>.Factory.StartNew(TaskWithResult);\n",
    "t.Wait();\n",
    "\n",
    "int nruns = t.Result;\n",
    "Console.WriteLine(\"\\nTask loop {0} times\\n\\n\", nruns);"
   ]
  },
  {
   "cell_type": "code",
   "execution_count": 5,
   "metadata": {},
   "outputs": [
    {
     "name": "stdout",
     "output_type": "stream",
     "text": [
      "Task 9 step: 0\n",
      "Task 9 step: 1\n",
      "Task 9 step: 2\n",
      "Task 9 step: 3\n",
      "Task 9 step: 4\n",
      "Task 9 step: 5\n",
      "Task 1 step: 0\n",
      "Task 1 step: 1\n",
      "Task 1 step: 2\n",
      "Task 1 step: 3\n",
      "Task 1 step: 4\n",
      "Task 1 step: 5\n",
      "Task 1 step: 6\n",
      "Task 1 step: 7\n",
      "Task 1 step: 8\n",
      "Task 1 step: 9\n",
      "#### Task 1 finished ####\n",
      "Task 4 step: 0\n",
      "Task 4 step: 1\n",
      "Task 4 step: 2\n",
      "Task 4 step: 3\n",
      "Task 4 step: 4\n",
      "Task 4 step: 5\n",
      "Task 4 step: 6\n",
      "Task 4 step: 7\n",
      "Task 4 step: 8\n",
      "Task 4 step: 9\n",
      "#### Task 4 finished ####\n",
      "Task 5 step: 0\n",
      "Task 5 step: 1\n",
      "Task 5 step: 2\n",
      "Task 5 step: 3\n",
      "Task 5 step: 4\n",
      "Task 5 step: 5\n",
      "Task 5 step: 6\n",
      "Task 5 step: 7\n",
      "Task 5 step: 8\n",
      "Task 5 step: 9\n",
      "#### Task 5 finished ####\n",
      "Task 2 step: 0\n",
      "Task 3 step: 0\n",
      "Task 0 step: 0\n",
      "Task 0 step: 1\n",
      "Task 0 step: 2\n",
      "Task 0 step: 3\n",
      "Task 0 step: 4\n",
      "Task 0 step: 5\n",
      "Task 0 step: 6\n",
      "Task 0 step: 7\n",
      "Task 0 step: 8\n",
      "Task 0 step: 9\n",
      "#### Task 0 finished ####\n",
      "Task 2 step: 1\n",
      "Task 2 step: 2\n",
      "Task 2 step: 3\n",
      "Task 2 step: 4\n",
      "Task 2 step: 5\n",
      "Task 2 step: 6\n",
      "Task 2 step: 7\n",
      "Task 9 step: 6\n",
      "Task 9 step: 7\n",
      "Task 9 step: 8\n",
      "Task 9 step: 9\n",
      "#### Task 9 finished ####\n",
      "Task 8 step: 0\n",
      "Task 8 step: 1\n",
      "Task 8 step: 2\n",
      "Task 8 step: 3\n",
      "Task 8 step: 4\n",
      "Task 8 step: 5\n",
      "Task 8 step: 6\n",
      "Task 8 step: 7\n",
      "Task 8 step: 8\n",
      "Task 8 step: 9\n",
      "#### Task 8 finished ####\n",
      "Task 7 step: 0\n",
      "Task 7 step: 1\n",
      "Task 2 step: 8\n",
      "Task 2 step: 9\n",
      "#### Task 2 finished ####\n",
      "Task 3 step: 1\n",
      "Task 6 step: 0\n",
      "Task 6 step: 1\n",
      "Task 6 step: 2\n",
      "Task 6 step: 3\n",
      "Task 6 step: 4\n",
      "Task 6 step: 5\n",
      "Task 6 step: 6\n",
      "Task 6 step: 7\n",
      "Task 6 step: 8\n",
      "Task 6 step: 9\n",
      "#### Task 6 finished ####\n",
      "Task 3 step: 2\n",
      "Task 3 step: 3\n",
      "Task 3 step: 4\n",
      "Task 3 step: 5\n",
      "Task 3 step: 6\n",
      "Task 3 step: 7\n",
      "Task 3 step: 8\n",
      "Task 3 step: 9\n",
      "#### Task 3 finished ####\n",
      "Task 7 step: 2\n",
      "Task 7 step: 3\n",
      "Task 7 step: 4\n",
      "Task 7 step: 5\n",
      "Task 7 step: 6\n",
      "Task 7 step: 7\n",
      "Task 7 step: 8\n",
      "Task 7 step: 9\n",
      "#### Task 7 finished ####\n",
      "Finished processing tasks\n"
     ]
    }
   ],
   "source": [
    "Task[] Tasks = new Task[10];\n",
    "\n",
    "for (int i = 0; i < 10; i++)\n",
    "{\n",
    "\n",
    "   int tasknumb = i;\n",
    "   Tasks[i] = Task.Run(() => TaskX(tasknumb));\n",
    "\n",
    "}\n",
    "\n",
    "Task.WaitAll(Tasks);\n",
    "Console.WriteLine(\"Finished processing tasks\");"
   ]
  },
  {
   "cell_type": "markdown",
   "metadata": {},
   "source": [
    "# Task.WaitAny"
   ]
  },
  {
   "cell_type": "code",
   "execution_count": 31,
   "metadata": {},
   "outputs": [
    {
     "name": "stdout",
     "output_type": "stream",
     "text": [
      "Task 1 step: 0\n",
      "Task 1 step: 1\n",
      "Task 1 step: 2\n",
      "Task 1 step: 3\n",
      "Task 1 step: 4\n",
      "Task 1 step: 5\n",
      "Task 1 step: 6\n",
      "Task 1 step: 7\n",
      "Task 1 step: 8\n",
      "Task 1 step: 9\n",
      "#### Task 1 finished ####\n",
      "Task 2 step: 0\n",
      "Task with result step: 0\n",
      "Task with result step: 1\n",
      "Task with result step: 2\n",
      "Task with result step: 3\n",
      "Task with result step: 4\n",
      "Task with result step: 5\n",
      "Task with result step: 6\n",
      "Task with result step: 7\n",
      "Task with result step: 8\n",
      "Task with result step: 9\n",
      "#### task with result finished ####\n",
      "\n",
      "Task loop 10 times\n",
      "\n",
      "\n"
     ]
    }
   ],
   "source": [
    "using System.Threading;\n",
    "\n",
    "Task t1 = Task.Factory.StartNew(TaskOne);\n",
    "\n",
    "Task t2 = Task.Run(() => \n",
    "{\n",
    "   for (int i = 0; i < 10; i++)\n",
    "    {\n",
    "        \n",
    "        Console.WriteLine(\"Task 2 step: {0}\", i);\n",
    "        if (i == 9)\n",
    "            Console.WriteLine(\"#### task 2 finished ####\");\n",
    "            \n",
    "        Thread.Sleep(600);    \n",
    "    }\n",
    "    \n",
    "}\n",
    ");\n",
    "\n",
    "Task t3 = Task.Run(() => \n",
    "{\n",
    "   for (int i = 0; i < 10; i++)\n",
    "    {\n",
    "        Thread.Sleep(5000);\n",
    "        Console.WriteLine(\"Task 3 step: {0}\", i);\n",
    "        if (i == 9)\n",
    "            Console.WriteLine(\"#### task 3 finished ####\");\n",
    "    }\n",
    "    \n",
    "}\n",
    ");\n",
    "\n",
    "Task[] allTasks = { t1, t2, t3 };\n",
    "\n",
    "Task.WaitAny(allTasks);\n",
    "\n",
    "Task<int> t = Task<int>.Factory.StartNew(TaskWithResult);\n",
    "\n",
    "int nruns = t.Result;\n",
    "Console.WriteLine(\"\\nTask loop {0} times\\n\\n\", nruns);\n"
   ]
  },
  {
   "cell_type": "markdown",
   "metadata": {},
   "source": [
    "# ContinueWith"
   ]
  },
  {
   "cell_type": "code",
   "execution_count": 4,
   "metadata": {},
   "outputs": [],
   "source": [
    "Task t1 = Task.Run(() => TaskOne());\n",
    "t1.ContinueWith( (antecedent) => TaskTwo());"
   ]
  },
  {
   "cell_type": "markdown",
   "metadata": {},
   "source": [
    "### Continuation using options"
   ]
  },
  {
   "cell_type": "code",
   "execution_count": 3,
   "metadata": {},
   "outputs": [
    {
     "name": "stdout",
     "output_type": "stream",
     "text": [
      "Task 1 step: 0\n",
      "Task 1 step: 1\n",
      "Task 1 step: 2\n",
      "Task 1 step: 3\n",
      "Task 1 step: 4\n",
      "Task 1 step: 5\n",
      "Task 1 step: 6\n",
      "Task 1 step: 7\n",
      "Task 1 step: 8\n",
      "Task 1 step: 9\n",
      "#### Task 1 finished ####\n",
      "Task 2 step: 0\n"
     ]
    }
   ],
   "source": [
    "Task task = Task.Run(() => TaskOne());\n",
    "\n",
    "task.ContinueWith((antecedent) => TaskTwo(), TaskContinuationOptions.OnlyOnRanToCompletion);\n",
    "task.ContinueWith((antecedent) => { Console.WriteLine(\"Exception thrown\"); }, TaskContinuationOptions.OnlyOnFaulted);"
   ]
  },
  {
   "cell_type": "code",
   "execution_count": 2,
   "metadata": {},
   "outputs": [
    {
     "name": "stdout",
     "output_type": "stream",
     "text": [
      "Task 2 step: 0\n",
      "Task 2 step: 1\n",
      "Task 2 step: 2\n",
      "Task 2 step: 3\n",
      "Task 2 step: 4\n",
      "Task 2 step: 5\n",
      "Task 2 step: 6\n",
      "Task 2 step: 7\n",
      "Task 2 step: 8\n",
      "Task 2 step: 9\n",
      "Task 1 step: 0\n",
      "Task 1 step: 1\n",
      "Task 1 step: 2\n",
      "Task 1 step: 3\n",
      "Task 1 step: 4\n",
      "Task 1 step: 5\n",
      "Task 1 step: 6\n",
      "Task 1 step: 7\n",
      "Task 1 step: 8\n",
      "Task 1 step: 9\n",
      "#### Task 1 finished ####\n",
      "#### task 2 finished ####\n",
      "Task 3 step: 0\n",
      "Task 3 step: 1\n",
      "Task 3 step: 2\n",
      "Task 3 step: 3\n",
      "Task 3 step: 4\n",
      "Task 3 step: 5\n",
      "Task 3 step: 6\n",
      "Task 3 step: 7\n",
      "Task 3 step: 8\n",
      "Task 3 step: 9\n",
      "#### task 3 finished ####\n"
     ]
    }
   ],
   "source": [
    "Task t1 = Task.Run(() => TaskOne());\n",
    "Task t2 = Task.Run(() => TaskTwo());\n",
    "Task t3 = t1.ContinueWith((previoustask) => TaskThree());\n",
    "\n",
    "Task.WaitAll(t2, t3);"
   ]
  },
  {
   "cell_type": "code",
   "execution_count": 5,
   "metadata": {},
   "outputs": [
    {
     "name": "stdout",
     "output_type": "stream",
     "text": [
      "Task 1 step: 0\n",
      "Task 1 step: 1\n",
      "Task 1 step: 2\n",
      "Task 1 step: 3\n",
      "Task 1 step: 4\n",
      "Task 1 step: 5\n",
      "Task 1 step: 6\n",
      "Task 1 step: 7\n",
      "Task 1 step: 8\n",
      "Task 1 step: 9\n",
      "#### Task 1 finished ####\n",
      "Task 2 step: 0\n",
      "Task 2 step: 1\n",
      "Task 2 step: 2\n",
      "Task 2 step: 3\n",
      "Task 2 step: 4\n",
      "Task 2 step: 5\n",
      "Task 2 step: 6\n",
      "Task 2 step: 7\n",
      "Task 2 step: 8\n",
      "Task 2 step: 9\n",
      "#### task 2 finished ####\n",
      "Task 3 step: 0\n",
      "Task 3 step: 1\n",
      "Task 3 step: 2\n",
      "Task 3 step: 3\n",
      "Task 3 step: 4\n",
      "Task 3 step: 5\n",
      "Task 3 step: 6\n",
      "Task 3 step: 7\n",
      "Task 3 step: 8\n",
      "Task 3 step: 9\n",
      "#### task 3 finished ####\n"
     ]
    }
   ],
   "source": [
    "Task t1 = Task.Run(() => TaskOne());\n",
    "Task t2 = Task.Run(() => TaskTwo());\n",
    "Task t3 = Task.Factory.ContinueWhenAll(new Task[] { t1, t2 },(previoustasks) => TaskThree());\n",
    "\n",
    "t3.Wait();"
   ]
  },
  {
   "cell_type": "code",
   "execution_count": null,
   "metadata": {},
   "outputs": [
    {
     "name": "stdout",
     "output_type": "stream",
     "text": [
      "Task 1 step: 0\n",
      "Task 1 step: 1\n",
      "Task 1 step: 2\n",
      "Task 1 step: 3\n",
      "Task 1 step: 4\n",
      "Task 1 step: 5\n",
      "Task 1 step: 6\n",
      "Task 1 step: 7\n",
      "Task 1 step: 8\n",
      "Task 1 step: 9\n",
      "#### Task 1 finished ####\n",
      "Task 3 step: 0\n",
      "Task 3 step: 1\n",
      "Task 3 step: 2\n",
      "Task 3 step: 3\n",
      "Task 3 step: 4\n",
      "Task 3 step: 5\n",
      "Task 3 step: 6\n",
      "Task 3 step: 7\n",
      "Task 3 step: 8\n",
      "Task 3 step: 9\n",
      "#### task 3 finished ####\n",
      "Task 2 step: 0\n"
     ]
    }
   ],
   "source": [
    "Task t1 = Task.Run(() => TaskOne());\n",
    "Task t2 = Task.Run(() => TaskTwo());\n",
    "Task t3 = Task.Factory.ContinueWhenAny(new Task[] { t1, t2 },(previoustasks) => TaskThree());\n",
    "\n",
    "t3.Wait();"
   ]
  },
  {
   "cell_type": "code",
   "execution_count": null,
   "metadata": {},
   "outputs": [],
   "source": []
  }
 ],
 "metadata": {
  "kernelspec": {
   "display_name": ".NET (C#)",
   "language": "C#",
   "name": ".net-csharp"
  },
  "language_info": {
   "file_extension": ".cs",
   "mimetype": "text/x-csharp",
   "name": "C#",
   "pygments_lexer": "csharp",
   "version": "8.0"
  },
  "toc": {
   "base_numbering": 1,
   "nav_menu": {},
   "number_sections": false,
   "sideBar": false,
   "skip_h1_title": false,
   "title_cell": "Table of Contents",
   "title_sidebar": "Contents",
   "toc_cell": false,
   "toc_position": {},
   "toc_section_display": false,
   "toc_window_display": false
  }
 },
 "nbformat": 4,
 "nbformat_minor": 2
}
