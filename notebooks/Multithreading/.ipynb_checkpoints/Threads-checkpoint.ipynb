{
 "cells": [
  {
   "cell_type": "code",
   "execution_count": 1,
   "metadata": {},
   "outputs": [],
   "source": [
    "private static void ThreadTwo()\n",
    "{\n",
    "    for (int i = 0; i < 10; i++)\n",
    "     {\n",
    "       Console.WriteLine(\"Thread 2 step: {0}\", i);\n",
    "       if(i==9)\n",
    "           Console.WriteLine(\"#### Thread 2 finished ####\");\n",
    "     }\n",
    "}\n",
    "\n",
    "\n",
    "\n",
    "private static void ThreadTwoWithParam(object number)\n",
    "{\n",
    "    int count = (int)number;\n",
    "    for (int i = 0; i < count; i++)\n",
    "    {\n",
    "        Console.WriteLine(\"Thread 2 step: {0}\", i);\n",
    "        if (i == (count-1))\n",
    "            Console.WriteLine(\"#### Thread 2 finished ####\");\n",
    "    }\n",
    "}"
   ]
  },
  {
   "cell_type": "markdown",
   "metadata": {},
   "source": [
    "## Calling a thread from the main thread. Second thread stops right after the main thread ends."
   ]
  },
  {
   "cell_type": "code",
   "execution_count": 2,
   "metadata": {},
   "outputs": [
    {
     "name": "stdout",
     "output_type": "stream",
     "text": [
      "Thread 1 step: 0\n",
      "Thread 1 step: 1\n",
      "Thread 1 step: 2\n",
      "Thread 1 step: 3\n",
      "Thread 1 step: 4\n",
      "Thread 1 step: 5\n",
      "Thread 1 step: 6\n",
      "Thread 1 step: 7\n",
      "Thread 1 step: 8\n",
      "Thread 1 step: 9\n",
      "Thread 2 step: 0\n"
     ]
    }
   ],
   "source": [
    "using System.Threading;\n",
    "\n",
    "Thread t = new Thread(ThreadTwo);\n",
    "t.Start();\n",
    "\n",
    "for (int i = 0; i < 10; i++)\n",
    "{\n",
    "   Console.WriteLine(\"Thread 1 step: {0}\", i);\n",
    "}"
   ]
  },
  {
   "cell_type": "markdown",
   "metadata": {},
   "source": [
    "## Calling a thread from the main thread. Wait until second thread is terminated."
   ]
  },
  {
   "cell_type": "code",
   "execution_count": 4,
   "metadata": {},
   "outputs": [
    {
     "name": "stdout",
     "output_type": "stream",
     "text": [
      "Thread 2 step: 0\n",
      "Thread 2 step: 1\n",
      "Thread 2 step: 2\n",
      "Thread 2 step: 3\n",
      "Thread 2 step: 4\n",
      "Thread 2 step: 5\n",
      "Thread 2 step: 6\n",
      "Thread 2 step: 7\n",
      "Thread 2 step: 8\n",
      "Thread 2 step: 9\n",
      "#### Thread 2 finished ####\n",
      "Thread 1 step: 0\n",
      "Thread 1 step: 1\n",
      "Thread 1 step: 2\n",
      "Thread 1 step: 3\n",
      "Thread 1 step: 4\n",
      "Thread 1 step: 5\n",
      "Thread 1 step: 6\n",
      "Thread 1 step: 7\n",
      "Thread 1 step: 8\n",
      "Thread 1 step: 9\n"
     ]
    }
   ],
   "source": [
    "using System.Threading;\n",
    "\n",
    "Thread t = new Thread(ThreadTwo);\n",
    "t.Start();\n",
    "t.Join();\n",
    "\n",
    "for (int i = 0; i < 10; i++)\n",
    "{\n",
    "   Console.WriteLine(\"Thread 1 step: {0}\", i);\n",
    "}"
   ]
  },
  {
   "cell_type": "markdown",
   "metadata": {},
   "source": [
    "## Calling a thread from the main thread using \"ThreadStart\""
   ]
  },
  {
   "cell_type": "code",
   "execution_count": 2,
   "metadata": {},
   "outputs": [
    {
     "name": "stdout",
     "output_type": "stream",
     "text": [
      "Thread 2 step: 0\n",
      "Thread 2 step: 1\n",
      "Thread 2 step: 2\n",
      "Thread 2 step: 3\n",
      "Thread 2 step: 4\n",
      "Thread 2 step: 5\n",
      "Thread 2 step: 6\n",
      "Thread 2 step: 7\n",
      "Thread 2 step: 8\n",
      "Thread 2 step: 9\n",
      "#### Thread 2 finished ####\n",
      "Thread 1 step: 0\n",
      "Thread 1 step: 1\n",
      "Thread 1 step: 2\n",
      "Thread 1 step: 3\n",
      "Thread 1 step: 4\n",
      "Thread 1 step: 5\n",
      "Thread 1 step: 6\n",
      "Thread 1 step: 7\n",
      "Thread 1 step: 8\n",
      "Thread 1 step: 9\n"
     ]
    }
   ],
   "source": [
    "using System.Threading;\n",
    "\n",
    "Thread t = new Thread(new ThreadStart(ThreadTwo));\n",
    "t.Start();\n",
    "t.Join();\n",
    "\n",
    "for (int i = 0; i < 10; i++)\n",
    "{\n",
    "   Console.WriteLine(\"Thread 1 step: {0}\", i);\n",
    "}"
   ]
  },
  {
   "cell_type": "markdown",
   "metadata": {},
   "source": [
    "## Calling a thread from the main thread. Execute second thread in foreground (Is the default procedure)."
   ]
  },
  {
   "cell_type": "code",
   "execution_count": 5,
   "metadata": {},
   "outputs": [
    {
     "name": "stdout",
     "output_type": "stream",
     "text": [
      "Thread 1 step: 0\n",
      "Thread 1 step: 1\n",
      "Thread 1 step: 2\n",
      "Thread 1 step: 3\n",
      "Thread 1 step: 4\n",
      "Thread 1 step: 5\n",
      "Thread 1 step: 6\n",
      "Thread 1 step: 7\n",
      "Thread 1 step: 8\n",
      "Thread 1 step: 9\n",
      "Thread 2 step: 0\n",
      "Thread 2 step: 1\n"
     ]
    }
   ],
   "source": [
    "using System.Threading;\n",
    "\n",
    "Thread t = new Thread(ThreadTwo);\n",
    "t.IsBackground = false;\n",
    "\n",
    "t.Start();\n",
    "\n",
    "\n",
    "for (int i = 0; i < 10; i++)\n",
    "{\n",
    "   Console.WriteLine(\"Thread 1 step: {0}\", i);\n",
    "}"
   ]
  },
  {
   "cell_type": "markdown",
   "metadata": {},
   "source": [
    "## Calling a thread from the main thread. Execute second thread in background.\n",
    "### The second thread may have not time to start."
   ]
  },
  {
   "cell_type": "code",
   "execution_count": 6,
   "metadata": {},
   "outputs": [
    {
     "name": "stdout",
     "output_type": "stream",
     "text": [
      "Thread 1 step: 0\n",
      "Thread 1 step: 1\n",
      "Thread 1 step: 2\n",
      "Thread 1 step: 3\n",
      "Thread 1 step: 4\n",
      "Thread 1 step: 5\n",
      "Thread 1 step: 6\n",
      "Thread 1 step: 7\n",
      "Thread 1 step: 8\n",
      "Thread 1 step: 9\n"
     ]
    }
   ],
   "source": [
    "using System.Threading;\n",
    "\n",
    "Thread t = new Thread(ThreadTwo);\n",
    "t.IsBackground = true;\n",
    "\n",
    "t.Start();\n",
    "\n",
    "\n",
    "for (int i = 0; i < 10; i++)\n",
    "{\n",
    "   Console.WriteLine(\"Thread 1 step: {0}\", i);\n",
    "}"
   ]
  },
  {
   "cell_type": "markdown",
   "metadata": {},
   "source": [
    "# Pass a Parameterize Method to a Thread"
   ]
  },
  {
   "cell_type": "code",
   "execution_count": 3,
   "metadata": {},
   "outputs": [
    {
     "name": "stdout",
     "output_type": "stream",
     "text": [
      "Thread 2 step: 0\n",
      "Thread 2 step: 1\n",
      "Thread 2 step: 2\n",
      "Thread 2 step: 3\n",
      "Thread 2 step: 4\n",
      "Thread 2 step: 5\n",
      "Thread 2 step: 6\n",
      "Thread 2 step: 7\n",
      "Thread 2 step: 8\n",
      "Thread 2 step: 9\n",
      "#### Thread 2 finished ####\n",
      "Thread 1 step: 0\n",
      "Thread 1 step: 1\n",
      "Thread 1 step: 2\n",
      "Thread 1 step: 3\n",
      "Thread 1 step: 4\n",
      "Thread 1 step: 5\n",
      "Thread 1 step: 6\n",
      "Thread 1 step: 7\n",
      "Thread 1 step: 8\n",
      "Thread 1 step: 9\n"
     ]
    }
   ],
   "source": [
    "using System.Threading;\n",
    "\n",
    "Thread t = new Thread(new ParameterizedThreadStart(ThreadTwoWithParam));\n",
    "t.Start(10);\n",
    "t.Join();\n",
    "\n",
    "for (int i = 0; i < 10; i++)\n",
    "{\n",
    "    Console.WriteLine(\"Thread 1 step: {0}\", i);\n",
    "}"
   ]
  },
  {
   "cell_type": "markdown",
   "metadata": {},
   "source": [
    "# ThreadStatic attribute\n",
    "\n",
    "##  Both threads have their unique local values of count, because [ThreadStatic] make this variable unique for each thread."
   ]
  },
  {
   "cell_type": "code",
   "execution_count": 4,
   "metadata": {},
   "outputs": [
    {
     "name": "stdout",
     "output_type": "stream",
     "text": [
      "In Thread 1 count value = 0 \n",
      "In Thread 1 count value = 1 \n",
      "In Thread 1 count value = 2 \n",
      "In Thread 1 count value = 3 \n",
      "In Thread 1 count value = 4 \n",
      "In Thread 1 count value = 5 \n",
      "In Thread 1 count value = 6 \n",
      "In Thread 1 count value = 7 \n",
      "In Thread 1 count value = 8 \n",
      "In Thread 1 count value = 9 \n",
      "In Thread 2 count value = 0 \n",
      "In Thread 2 count value = 1 \n",
      "In Thread 2 count value = 2 \n",
      "In Thread 2 count value = 3 \n",
      "In Thread 2 count value = 4 \n",
      "In Thread 2 count value = 5 \n",
      "In Thread 2 count value = 6 \n",
      "In Thread 2 count value = 7 \n",
      "In Thread 2 count value = 8 \n"
     ]
    }
   ],
   "source": [
    "using System.Threading;\n",
    "\n",
    "[ThreadStatic]\n",
    "static int count = 0;\n",
    "\n",
    "Thread thread1 = new Thread(() =>\n",
    "{\n",
    "    for (int i = 0; i < 10; i++)\n",
    "    {\n",
    "        Console.WriteLine(\"In Thread 1 count value = {0} \", count++);\n",
    "     }\n",
    "});\n",
    "\n",
    "\n",
    "Thread thread2 = new Thread(() =>\n",
    "{\n",
    "    for (int i = 0; i < 10; i++)\n",
    "    {\n",
    "        Console.WriteLine(\"In Thread 2 count value = {0} \", count++);\n",
    "    }\n",
    "});\n",
    "\n",
    "thread1.Start();\n",
    "thread2.Start();\n"
   ]
  },
  {
   "cell_type": "markdown",
   "metadata": {},
   "source": [
    "# Comparison to process without ThreadStatic"
   ]
  },
  {
   "cell_type": "code",
   "execution_count": 7,
   "metadata": {},
   "outputs": [
    {
     "ename": "Unhandled Exception",
     "evalue": "(13,73): error CS0120: An object reference is required for the non-static field, method, or property 'count2'\n(20,73): error CS0120: An object reference is required for the non-static field, method, or property 'count2'",
     "output_type": "error",
     "traceback": [
      "(13,73): error CS0120: An object reference is required for the non-static field, method, or property 'count2'\n(20,73): error CS0120: An object reference is required for the non-static field, method, or property 'count2'"
     ]
    }
   ],
   "source": [
    "using System.Threading;\n",
    "\n",
    "static int count2 = 0;\n",
    "\n",
    "\n",
    "static void RunWithoutThreadStaticAttribute()\n",
    "{\n",
    "\n",
    "            Thread thread1 = new Thread(() =>\n",
    "            {\n",
    "                for (int i = 0; i < 10; i++)\n",
    "                {\n",
    "                    Console.WriteLine(\"In Thread 1 count value = {0} \", count2++);\n",
    "                }\n",
    "            });\n",
    "            Thread thread2 = new Thread(() =>\n",
    "            {\n",
    "                for (int i = 0; i < 10; i++)\n",
    "                {\n",
    "                    Console.WriteLine(\"In Thread 2 count value = {0} \", count2++);\n",
    "                }\n",
    "            });\n",
    "    \n",
    "    \n",
    "            thread1.Start();\n",
    "            thread2.Start();\n",
    "\n",
    "}\n",
    "\n",
    "RunWithoutThreadStaticAttribute();"
   ]
  },
  {
   "cell_type": "code",
   "execution_count": null,
   "metadata": {},
   "outputs": [],
   "source": []
  },
  {
   "cell_type": "code",
   "execution_count": null,
   "metadata": {},
   "outputs": [],
   "source": []
  }
 ],
 "metadata": {
  "kernelspec": {
   "display_name": ".NET (C#)",
   "language": "C#",
   "name": ".net-csharp"
  },
  "language_info": {
   "file_extension": ".cs",
   "mimetype": "text/x-csharp",
   "name": "C#",
   "pygments_lexer": "csharp",
   "version": "8.0"
  },
  "toc": {
   "base_numbering": 1,
   "nav_menu": {},
   "number_sections": false,
   "sideBar": false,
   "skip_h1_title": false,
   "title_cell": "Table of Contents",
   "title_sidebar": "Contents",
   "toc_cell": false,
   "toc_position": {},
   "toc_section_display": false,
   "toc_window_display": false
  }
 },
 "nbformat": 4,
 "nbformat_minor": 2
}
