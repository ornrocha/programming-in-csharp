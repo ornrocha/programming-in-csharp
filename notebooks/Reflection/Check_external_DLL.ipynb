{
 "cells": [
  {
   "cell_type": "code",
   "execution_count": 1,
   "metadata": {},
   "outputs": [],
   "source": [
    "using System;\n",
    "using System.Reflection;\n",
    "using System.Globalization;"
   ]
  },
  {
   "cell_type": "markdown",
   "metadata": {},
   "source": [
    "# Dynamically loading an Assembly"
   ]
  },
  {
   "cell_type": "code",
   "execution_count": 2,
   "metadata": {},
   "outputs": [
    {
     "name": "stdout",
     "output_type": "stream",
     "text": [
      "\n",
      "\n",
      "Type Object: Client\n",
      "Full Name: ReflectionDemo.Client\n",
      "\tMethod Name: get_Id\n",
      "\tMethod Name: set_Id\n",
      "\tMethod Name: get_Name\n",
      "\tMethod Name: set_Name\n",
      "\tMethod Name: get_Address\n",
      "\tMethod Name: set_Address\n",
      "\tMethod Name: GetType\n",
      "\tMethod Name: ToString\n",
      "\tMethod Name: Equals\n",
      "\tMethod Name: GetHashCode\n",
      "\n",
      "\n",
      "Type Object: Product\n",
      "Full Name: ReflectionDemo.Product\n",
      "\tMethod Name: get_Id\n",
      "\tMethod Name: set_Id\n",
      "\tMethod Name: get_Name\n",
      "\tMethod Name: set_Name\n",
      "\tMethod Name: get_Description\n",
      "\tMethod Name: set_Description\n",
      "\tMethod Name: get_Price\n",
      "\tMethod Name: set_Price\n",
      "\tMethod Name: GetType\n",
      "\tMethod Name: ToString\n",
      "\tMethod Name: Equals\n",
      "\tMethod Name: GetHashCode\n",
      "\n",
      "\n",
      "Type Object: Order\n",
      "Full Name: ReflectionDemo.Order\n",
      "\tMethod Name: get_Id\n",
      "\tMethod Name: set_Id\n",
      "\tMethod Name: get_client\n",
      "\tMethod Name: set_client\n",
      "\tMethod Name: get_product\n",
      "\tMethod Name: set_product\n",
      "\tMethod Name: get_DateOrder\n",
      "\tMethod Name: set_DateOrder\n",
      "\tMethod Name: GetType\n",
      "\tMethod Name: ToString\n",
      "\tMethod Name: Equals\n",
      "\tMethod Name: GetHashCode\n"
     ]
    }
   ],
   "source": [
    "Assembly assemb = Assembly.LoadFrom(\"./Dll/ReflectionDemo.dll\");\n",
    "\n",
    "Type[] Types = assemb.GetTypes(); \n",
    "\n",
    "foreach (Type objtype in Types)  \n",
    "{  \n",
    "   \n",
    "   Console.WriteLine(\"\\n\\nType Object: {0}\", objtype.Name.ToString());  \n",
    "   Console.WriteLine(\"Full Name: {0}\", objtype.FullName);\n",
    "   \n",
    "   MethodInfo[] methods = objtype.GetMethods();\n",
    "\n",
    "   foreach (var item in methods)\n",
    "   {\n",
    "     Console.WriteLine(\"\\tMethod Name: {0}\", item.Name);\n",
    "   }\n",
    "} "
   ]
  },
  {
   "cell_type": "markdown",
   "metadata": {},
   "source": [
    "## Check constructors"
   ]
  },
  {
   "cell_type": "code",
   "execution_count": 3,
   "metadata": {},
   "outputs": [
    {
     "name": "stdout",
     "output_type": "stream",
     "text": [
      "\n",
      "Type Object: Client\n",
      "\tConstructor arguments: \n",
      "\t\tName: name, Parameter Type: String, Position: 0\n",
      "\t\tName: id, Parameter Type: Int32, Position: 1\n",
      "\t\tName: address, Parameter Type: String, Position: 2\n",
      "\n",
      "Type Object: Product\n",
      "\tConstructor arguments: \n",
      "\tConstructor arguments: \n",
      "\t\tName: Name, Parameter Type: String, Position: 0\n",
      "\t\tName: ID, Parameter Type: Int32, Position: 1\n",
      "\t\tName: Description, Parameter Type: String, Position: 2\n",
      "\t\tName: Price, Parameter Type: Double, Position: 3\n",
      "\n",
      "Type Object: Order\n",
      "\tConstructor arguments: \n",
      "\t\tName: ID, Parameter Type: Int32, Position: 0\n",
      "\t\tName: client, Parameter Type: Client, Position: 1\n",
      "\t\tName: product, Parameter Type: Product, Position: 2\n"
     ]
    }
   ],
   "source": [
    "Assembly assemb = Assembly.LoadFrom(\"./Dll/ReflectionDemo.dll\");\n",
    "\n",
    "Type[] Types = assemb.GetTypes();\n",
    " \n",
    "foreach (Type objtype in Types)  \n",
    "{\n",
    "   Console.WriteLine(\"\\nType Object: {0}\", objtype.Name.ToString()); \n",
    "\n",
    "   ConstructorInfo[] constructs = objtype.GetConstructors();\n",
    "\n",
    "   foreach (var item in constructs)\n",
    "   {\n",
    "     Console.WriteLine(\"\\tConstructor arguments: \");\n",
    "\n",
    "            \n",
    "      foreach (var param in item.GetParameters())\n",
    "      {\n",
    "        Console.Write(\"\\t\\tName: {0}, \", param.Name);\n",
    "        Console.Write(\"Parameter Type: {0}, \", param.ParameterType.Name);\n",
    "        Console.Write(\"Position: {0}\\n\", param.Position);\n",
    "         }\n",
    "   }\n",
    "}"
   ]
  },
  {
   "cell_type": "markdown",
   "metadata": {},
   "source": [
    "# Create an instance of a type in runtime"
   ]
  },
  {
   "cell_type": "code",
   "execution_count": 8,
   "metadata": {},
   "outputs": [
    {
     "name": "stdout",
     "output_type": "stream",
     "text": [
      "Maria\n",
      "234\n",
      "Street madin\n"
     ]
    }
   ],
   "source": [
    "\n",
    "Type clientclass = assemb.GetType(\"ReflectionDemo.Client\");\n",
    "\n",
    "var client = Activator.CreateInstance(clientclass, new object[]{\"Maria\",234,\"Street madin\"}); \n",
    "           \n",
    "Console.WriteLine(clientclass.GetMethod(\"get_Name\").Invoke(client,null));\n",
    "Console.WriteLine(clientclass.GetMethod(\"get_Id\").Invoke(client,null));\n",
    "Console.WriteLine(clientclass.GetMethod(\"get_Address\").Invoke(client,null));"
   ]
  },
  {
   "cell_type": "code",
   "execution_count": 7,
   "metadata": {},
   "outputs": [
    {
     "name": "stdout",
     "output_type": "stream",
     "text": [
      "Cookies\n",
      "84923\n",
      "Chocolate cookies\n",
      "3.5\n"
     ]
    }
   ],
   "source": [
    "Type productclass = assemb.GetType(\"ReflectionDemo.Product\");\n",
    "\n",
    "var prod = Activator.CreateInstance(productclass, new object[]{\"Cookies\",84923,\"Chocolate cookies\", 3.5}); \n",
    "\n",
    "Console.WriteLine(productclass.GetMethod(\"get_Name\").Invoke(prod ,null));\n",
    "Console.WriteLine(productclass.GetMethod(\"get_Id\").Invoke(prod ,null));\n",
    "Console.WriteLine(productclass.GetMethod(\"get_Description\").Invoke(prod ,null));\n",
    "Console.WriteLine(productclass.GetMethod(\"get_Price\").Invoke(prod ,null));"
   ]
  },
  {
   "cell_type": "code",
   "execution_count": 13,
   "metadata": {},
   "outputs": [
    {
     "name": "stdout",
     "output_type": "stream",
     "text": [
      "Client: Maria\n",
      "Product: Cookies\n"
     ]
    }
   ],
   "source": [
    "Type orderclass = assemb.GetType(\"ReflectionDemo.Order\");\n",
    "\n",
    "var order = Activator.CreateInstance(orderclass, new object[]{1,client,prod}); \n",
    "\n",
    "var clientorder = orderclass.GetMethod(\"get_client\").Invoke(order,null);\n",
    "var productorder = orderclass.GetMethod(\"get_product\").Invoke(order,null);\n",
    "\n",
    "Console.WriteLine(\"Client: \" + clientclass.GetMethod(\"get_Name\").Invoke(clientorder,null));\n",
    "\n",
    "Console.WriteLine(\"Product: \"+ productclass.GetMethod(\"get_Name\").Invoke(productorder,null));"
   ]
  },
  {
   "cell_type": "code",
   "execution_count": null,
   "metadata": {},
   "outputs": [],
   "source": []
  }
 ],
 "metadata": {
  "kernelspec": {
   "display_name": ".NET (C#)",
   "language": "C#",
   "name": ".net-csharp"
  },
  "language_info": {
   "file_extension": ".cs",
   "mimetype": "text/x-csharp",
   "name": "C#",
   "pygments_lexer": "csharp",
   "version": "8.0"
  },
  "toc": {
   "base_numbering": 1,
   "nav_menu": {},
   "number_sections": false,
   "sideBar": false,
   "skip_h1_title": false,
   "title_cell": "Table of Contents",
   "title_sidebar": "Contents",
   "toc_cell": false,
   "toc_position": {},
   "toc_section_display": false,
   "toc_window_display": false
  }
 },
 "nbformat": 4,
 "nbformat_minor": 2
}
