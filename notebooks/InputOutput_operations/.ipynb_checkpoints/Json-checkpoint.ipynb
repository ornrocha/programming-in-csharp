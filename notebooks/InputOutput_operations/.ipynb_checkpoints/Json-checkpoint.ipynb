{
 "cells": [
  {
   "cell_type": "code",
   "execution_count": 16,
   "metadata": {},
   "outputs": [],
   "source": [
    "using System;\n",
    "using System.Collections.Generic;\n",
    "using System.IO;\n",
    "using System.Runtime.Serialization.Json;"
   ]
  },
  {
   "cell_type": "code",
   "execution_count": 1,
   "metadata": {},
   "outputs": [],
   "source": [
    "public class Employee\n",
    "{\n",
    "    public string jobTitleName { get; set; }\n",
    "    public string firstName { get; set; }\n",
    "    public string lastName { get; set; }\n",
    "    public string employeeCode { get; set; }\n",
    "    public string phoneNumber { get; set; }\n",
    "    public string emailAddress { get; set; }\n",
    "}"
   ]
  },
  {
   "cell_type": "code",
   "execution_count": 2,
   "metadata": {},
   "outputs": [],
   "source": [
    "public class ListEmployees\n",
    "{\n",
    "  public List<Employee> Employees { get; set; }\n",
    "}"
   ]
  },
  {
   "cell_type": "code",
   "execution_count": 3,
   "metadata": {},
   "outputs": [],
   "source": [
    "Employee emp1=new Employee()\n",
    "{\n",
    "    jobTitleName = \"Developer\",\n",
    "    firstName = \"John\",\n",
    "    lastName = \"Doe\",\n",
    "    employeeCode = \"E1\",\n",
    "    phoneNumber=\"345-1234567\",\n",
    "    emailAddress=\"johndoe@email.com\"\n",
    "};\n",
    "\n",
    "Employee emp2=new Employee()\n",
    "{\n",
    "    jobTitleName = \"Developer\",\n",
    "    firstName = \"Maria\",\n",
    "    lastName = \"geogo\",\n",
    "    employeeCode = \"E2\",\n",
    "    phoneNumber=\"766-1111111\",\n",
    "    emailAddress=\"maria.geogo@email.com\"\n",
    "};\n",
    "\n",
    "\n",
    "ListEmployees listz = new ListEmployees();\n",
    "\n",
    "List<Employee> employees = new List<Employee>();\n",
    "\n",
    "employees.Add(emp1);\n",
    "employees.Add(emp2);\n",
    "\n",
    "listz.Employees = employees;"
   ]
  },
  {
   "cell_type": "code",
   "execution_count": 19,
   "metadata": {},
   "outputs": [],
   "source": [
    "DataContractJsonSerializer SerializerObj = new DataContractJsonSerializer(typeof(ListEmployees));\n",
    " \n",
    "using (var stream = File.Create(\"Data/list_employees.json\"))\n",
    "{\n",
    "    SerializerObj.WriteObject(stream, listz);\n",
    "} \n"
   ]
  },
  {
   "cell_type": "code",
   "execution_count": 22,
   "metadata": {},
   "outputs": [
    {
     "ename": "Unhandled Exception",
     "evalue": "(8,60): error CS0103: The name 'reader' does not exist in the current context",
     "output_type": "error",
     "traceback": [
      "(8,60): error CS0103: The name 'reader' does not exist in the current context"
     ]
    }
   ],
   "source": [
    "ListEmployees EmployeesList;\n",
    "\n",
    "\n",
    "DataContractJsonSerializer deserializer = new DataContractJsonSerializer(typeof(ListEmployees));\n",
    "    \n",
    "using (FileStream file = new FileStream(\"Data/list_employees.json\", FileMode.Open))\n",
    "{\n",
    "    EmployeesList = (ListEmployees)deserializer.ReadObject(file);\n",
    "}\n",
    "\n",
    "foreach(var empl in EmployeesList.Employees)\n",
    "{\n",
    "  Console.WriteLine(\"Employee: {0} {1}\", empl.firstName, empl.lastName); \n",
    "}"
   ]
  },
  {
   "cell_type": "code",
   "execution_count": null,
   "metadata": {},
   "outputs": [],
   "source": []
  }
 ],
 "metadata": {
  "kernelspec": {
   "display_name": ".NET (C#)",
   "language": "C#",
   "name": ".net-csharp"
  },
  "language_info": {
   "file_extension": ".cs",
   "mimetype": "text/x-csharp",
   "name": "C#",
   "pygments_lexer": "csharp",
   "version": "8.0"
  },
  "toc": {
   "base_numbering": 1,
   "nav_menu": {},
   "number_sections": false,
   "sideBar": false,
   "skip_h1_title": false,
   "title_cell": "Table of Contents",
   "title_sidebar": "Contents",
   "toc_cell": false,
   "toc_position": {},
   "toc_section_display": false,
   "toc_window_display": false
  }
 },
 "nbformat": 4,
 "nbformat_minor": 2
}
