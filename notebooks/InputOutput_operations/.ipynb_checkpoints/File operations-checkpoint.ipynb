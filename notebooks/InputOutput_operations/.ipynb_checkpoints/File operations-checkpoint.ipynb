{
 "cells": [
  {
   "cell_type": "code",
   "execution_count": 2,
   "metadata": {},
   "outputs": [],
   "source": [
    "using System.IO;"
   ]
  },
  {
   "cell_type": "markdown",
   "metadata": {},
   "source": [
    "# DirectoryInfo class"
   ]
  },
  {
   "cell_type": "code",
   "execution_count": 3,
   "metadata": {},
   "outputs": [],
   "source": [
    "DirectoryInfo directoryInfo = new DirectoryInfo(\"Data\"); // Use the relative filepath to folder \"Data\""
   ]
  },
  {
   "cell_type": "markdown",
   "metadata": {},
   "source": [
    "### List files"
   ]
  },
  {
   "cell_type": "code",
   "execution_count": 4,
   "metadata": {},
   "outputs": [
    {
     "name": "stdout",
     "output_type": "stream",
     "text": [
      "File: employees.xml\n",
      "File: employees.json\n",
      "File: list_employees.json\n",
      "File: text.txt\n",
      "File: friends.xml\n"
     ]
    }
   ],
   "source": [
    "FileInfo[] Files = directoryInfo.GetFiles();\n",
    "\n",
    "foreach(FileInfo file in Files )\n",
    "{\n",
    "  Console.WriteLine(\"File: {0}\", file.Name);\n",
    "}"
   ]
  },
  {
   "cell_type": "markdown",
   "metadata": {},
   "source": [
    "### Filtering by file extension"
   ]
  },
  {
   "cell_type": "code",
   "execution_count": 11,
   "metadata": {},
   "outputs": [
    {
     "name": "stdout",
     "output_type": "stream",
     "text": [
      "File: employees.json\n"
     ]
    }
   ],
   "source": [
    "FileInfo[] Files = directoryInfo.GetFiles(\"*.json\");\n",
    "\n",
    "foreach(FileInfo file in Files )\n",
    "{\n",
    "  Console.WriteLine(\"File: {0}\", file.Name);\n",
    "}"
   ]
  },
  {
   "cell_type": "markdown",
   "metadata": {},
   "source": [
    "## Directory (static class)"
   ]
  },
  {
   "cell_type": "code",
   "execution_count": 9,
   "metadata": {},
   "outputs": [
    {
     "name": "stdout",
     "output_type": "stream",
     "text": [
      "File: Data/employees.json\n",
      "File: Data/friends.xml\n"
     ]
    }
   ],
   "source": [
    "string[] filePaths = Directory.GetFiles(\"Data\");\n",
    "\n",
    "foreach(string filepath in filePaths )\n",
    "{\n",
    "  Console.WriteLine(\"File: {0}\", filepath);\n",
    "}"
   ]
  },
  {
   "cell_type": "markdown",
   "metadata": {},
   "source": [
    "## Create Directory"
   ]
  },
  {
   "cell_type": "code",
   "execution_count": 4,
   "metadata": {},
   "outputs": [
    {
     "name": "stdout",
     "output_type": "stream",
     "text": [
      "Diretory was created: Data/MyNewDirectory\n"
     ]
    }
   ],
   "source": [
    "string foldername = \"MyNewDirectory\";\n",
    "\n",
    "string parentfolder = \"Data\";\n",
    "\n",
    "string newpath= Path.Combine(parentfolder, foldername);\n",
    "\n",
    "if (!Directory.Exists(newpath))\n",
    "{\n",
    "   var diretory = Directory.CreateDirectory(newpath);\n",
    "   Console.WriteLine(\"Diretory was created: {0}\", diretory);\n",
    "}\n",
    "else\n",
    "{\n",
    "   Console.WriteLine(\"Diretory already exists\");\n",
    "}\n",
    "   "
   ]
  },
  {
   "cell_type": "markdown",
   "metadata": {},
   "source": [
    "## Delete Directory"
   ]
  },
  {
   "cell_type": "code",
   "execution_count": 4,
   "metadata": {},
   "outputs": [
    {
     "name": "stdout",
     "output_type": "stream",
     "text": [
      "Directory was Deleted: Data/MyNewDirectory\n"
     ]
    }
   ],
   "source": [
    "string dirpath = \"Data/MyNewDirectory\";\n",
    "\n",
    "if (Directory.Exists(dirpath))\n",
    "{\n",
    "  Directory.Delete(dirpath);\n",
    "  Console.WriteLine(\"Directory was Deleted: {0}\", dirpath);\n",
    "}"
   ]
  },
  {
   "cell_type": "markdown",
   "metadata": {},
   "source": [
    "# Create file"
   ]
  },
  {
   "cell_type": "code",
   "execution_count": 2,
   "metadata": {},
   "outputs": [],
   "source": [
    "string path = \"Data/text.txt\";\n",
    "string destPath = \"Data/MyNewDirectory/desttext.txt\";"
   ]
  },
  {
   "cell_type": "code",
   "execution_count": 3,
   "metadata": {},
   "outputs": [],
   "source": [
    "File.Create(path).Close();"
   ]
  },
  {
   "cell_type": "markdown",
   "metadata": {},
   "source": [
    "### Copy file"
   ]
  },
  {
   "cell_type": "code",
   "execution_count": 5,
   "metadata": {},
   "outputs": [],
   "source": [
    "File.Copy(path, destPath);"
   ]
  },
  {
   "cell_type": "markdown",
   "metadata": {},
   "source": [
    "## List files recursively (Directory and sub-directories)"
   ]
  },
  {
   "cell_type": "code",
   "execution_count": 7,
   "metadata": {},
   "outputs": [
    {
     "name": "stdout",
     "output_type": "stream",
     "text": [
      "File: Data/employees.json\n",
      "File: Data/text.txt\n",
      "File: Data/friends.xml\n",
      "File: Data/MyNewDirectory/desttext.txt\n"
     ]
    }
   ],
   "source": [
    "string[] filePaths = Directory.GetFiles(\"Data\",\"*\",SearchOption.AllDirectories);\n",
    "\n",
    "foreach(string filepath in filePaths )\n",
    "{\n",
    "  Console.WriteLine(\"File: {0}\", filepath);\n",
    "}"
   ]
  },
  {
   "cell_type": "code",
   "execution_count": null,
   "metadata": {},
   "outputs": [],
   "source": []
  }
 ],
 "metadata": {
  "kernelspec": {
   "display_name": ".NET (C#)",
   "language": "C#",
   "name": ".net-csharp"
  },
  "language_info": {
   "file_extension": ".cs",
   "mimetype": "text/x-csharp",
   "name": "C#",
   "pygments_lexer": "csharp",
   "version": "8.0"
  },
  "toc": {
   "base_numbering": 1,
   "nav_menu": {},
   "number_sections": false,
   "sideBar": false,
   "skip_h1_title": false,
   "title_cell": "Table of Contents",
   "title_sidebar": "Contents",
   "toc_cell": false,
   "toc_position": {},
   "toc_section_display": false,
   "toc_window_display": false
  }
 },
 "nbformat": 4,
 "nbformat_minor": 2
}
