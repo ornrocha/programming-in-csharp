{
 "cells": [
  {
   "cell_type": "markdown",
   "metadata": {},
   "source": [
    "# Event\n",
    "## Rule: [accessibility] event delegate_type EventName;\n",
    "\n",
    "* Event always is a data member of a class or struct."
   ]
  },
  {
   "cell_type": "code",
   "execution_count": 1,
   "metadata": {},
   "outputs": [],
   "source": [
    "using System;\n",
    "using System.Collections.Generic;"
   ]
  },
  {
   "cell_type": "markdown",
   "metadata": {},
   "source": [
    "#### Delegate"
   ]
  },
  {
   "cell_type": "code",
   "execution_count": 2,
   "metadata": {},
   "outputs": [],
   "source": [
    "public delegate void anEvent();"
   ]
  },
  {
   "cell_type": "markdown",
   "metadata": {},
   "source": [
    "#### event of the delegate (delegate becomes an event)"
   ]
  },
  {
   "cell_type": "code",
   "execution_count": 3,
   "metadata": {},
   "outputs": [],
   "source": [
    "public event anEvent someEvent;"
   ]
  },
  {
   "cell_type": "markdown",
   "metadata": {},
   "source": [
    "## Publisher"
   ]
  },
  {
   "cell_type": "code",
   "execution_count": 4,
   "metadata": {},
   "outputs": [],
   "source": [
    "public class PrintPublisher\n",
    "    {\n",
    "\n",
    "        public delegate void HelpPrint();\n",
    "\n",
    "        public event HelpPrint PrintEvent;\n",
    "\n",
    "        public PrintPublisher()\n",
    "        {\n",
    "\n",
    "        }\n",
    "\n",
    "        public void PrintHexadecimal(int number)\n",
    "        {\n",
    "            if (PrintEvent != null)\n",
    "                PrintEvent();\n",
    "            Console.WriteLine(\"Hexadecimal Number: {0:X6}\", number);\n",
    "        }\n",
    "\n",
    "\n",
    "        public void PrintExponential(int number)\n",
    "        {\n",
    "            PrintEvent?.Invoke();\n",
    "            Console.WriteLine(\"Exponential Number: {0:E2}\", number);\n",
    "        }\n",
    "\n",
    "\n",
    "    }"
   ]
  },
  {
   "cell_type": "markdown",
   "metadata": {},
   "source": [
    "## Subscriber"
   ]
  },
  {
   "cell_type": "code",
   "execution_count": 5,
   "metadata": {},
   "outputs": [],
   "source": [
    " public class Number\n",
    "    {\n",
    "        private PrintPublisher _publisher;\n",
    "\n",
    "        private int Value { get; set; }\n",
    "\n",
    "        public Number(int val)\n",
    "        {\n",
    "            Value = val;\n",
    "            _publisher = new PrintPublisher();\n",
    "        }\n",
    "\n",
    "        public void PrintInHexadecimal()\n",
    "        {\n",
    "            _publisher.PrintHexadecimal(this.Value);\n",
    "        }\n",
    "\n",
    "        public void PrintInExponential()\n",
    "        {\n",
    "            _publisher.PrintExponential(this.Value);\n",
    "        }\n",
    "    }"
   ]
  },
  {
   "cell_type": "code",
   "execution_count": 6,
   "metadata": {},
   "outputs": [
    {
     "name": "stdout",
     "output_type": "stream",
     "text": [
      "Hexadecimal Number: 001388\n",
      "Exponential Number: 5.00E+003\n"
     ]
    }
   ],
   "source": [
    "Number n = new Number(5000);\n",
    "\n",
    "n.PrintInHexadecimal();\n",
    "n.PrintInExponential();"
   ]
  },
  {
   "cell_type": "code",
   "execution_count": null,
   "metadata": {},
   "outputs": [],
   "source": []
  },
  {
   "cell_type": "markdown",
   "metadata": {},
   "source": [
    "# Custom Event Handler"
   ]
  },
  {
   "cell_type": "markdown",
   "metadata": {},
   "source": [
    "## Extends from EventArgs"
   ]
  },
  {
   "cell_type": "code",
   "execution_count": 8,
   "metadata": {},
   "outputs": [],
   "source": [
    "\n",
    "public class CustomMessageEventArgs : EventArgs\n",
    "{\n",
    "    private string message;\n",
    "        \n",
    "    public CustomMessageEventArgs(string s)\n",
    "    {\n",
    "       message = s;\n",
    "    }\n",
    "        \n",
    "        public string Message\n",
    "        {\n",
    "            get { return message; }\n",
    "            set { message = value; }\n",
    "        }\n",
    "}   "
   ]
  },
  {
   "cell_type": "markdown",
   "metadata": {},
   "source": [
    "## Publisher class"
   ]
  },
  {
   "cell_type": "code",
   "execution_count": 9,
   "metadata": {},
   "outputs": [],
   "source": [
    "\n",
    "class Publisher\n",
    "{\n",
    "\n",
    "   // Declare the EventHandler\n",
    "   public event EventHandler<CustomMessageEventArgs> MyCustomMessageEvent;\n",
    "\n",
    "   \n",
    "   public void ShowMessage()\n",
    "   {\n",
    "\n",
    "       OnRaiseMessageEvent(new CustomMessageEventArgs(\"My message\"));\n",
    "\n",
    "   }\n",
    "\n",
    "   \n",
    "   // Wrap event with a protected virtual method allowing the override by the derived classes\n",
    "   protected virtual void OnRaiseMessageEvent(CustomMessageEventArgs e)\n",
    "   {\n",
    "        EventHandler<CustomMessageEventArgs> handler = MyCustomMessageEvent;\n",
    "\n",
    "        // confirm if there are subscribers\n",
    "        if (handler != null)\n",
    "        {\n",
    "\n",
    "           e.Message += $\" at {DateTime.Now}\";\n",
    "\n",
    "           // raise the event.\n",
    "           handler(this, e);\n",
    "        }\n",
    "    }\n",
    "}"
   ]
  },
  {
   "cell_type": "markdown",
   "metadata": {},
   "source": [
    "## Subscriber class"
   ]
  },
  {
   "cell_type": "code",
   "execution_count": 10,
   "metadata": {},
   "outputs": [],
   "source": [
    "class Subscriber\n",
    "{\n",
    "   private string name;\n",
    "        \n",
    "    public Subscriber(string name, Publisher pub)\n",
    "        {\n",
    "            this.name = name;\n",
    "            pub.MyCustomMessageEvent += HandleMyMessageEvent;\n",
    "     }\n",
    "\n",
    "    // Action when the event is raised.\n",
    "    private void HandleMyMessageEvent(object sender, CustomMessageEventArgs e)\n",
    "    {\n",
    "            Console.WriteLine(name + \" received the following message: {0}\", e.Message);\n",
    "    }\n",
    "}"
   ]
  },
  {
   "cell_type": "markdown",
   "metadata": {},
   "source": [
    "## Subscribing an event to the publisher"
   ]
  },
  {
   "cell_type": "code",
   "execution_count": 11,
   "metadata": {},
   "outputs": [
    {
     "name": "stdout",
     "output_type": "stream",
     "text": [
      "Subscriber 1 received the following message: My message at 12/14/2019 3:39:46 PM\n",
      "Subscriber 2 received the following message: My message at 12/14/2019 3:39:46 PM\n"
     ]
    }
   ],
   "source": [
    "Publisher pub = new Publisher();\n",
    "\n",
    "Subscriber sub1 = new Subscriber(\"Subscriber 1\", pub);\n",
    "Subscriber sub2 = new Subscriber(\"Subscriber 2\", pub);\n",
    "\n",
    "\n",
    "pub.ShowMessage();\n"
   ]
  },
  {
   "cell_type": "code",
   "execution_count": null,
   "metadata": {},
   "outputs": [],
   "source": []
  }
 ],
 "metadata": {
  "kernelspec": {
   "display_name": ".NET (C#)",
   "language": "C#",
   "name": ".net-csharp"
  },
  "language_info": {
   "file_extension": ".cs",
   "mimetype": "text/x-csharp",
   "name": "C#",
   "pygments_lexer": "csharp",
   "version": "8.0"
  },
  "toc": {
   "base_numbering": 1,
   "nav_menu": {},
   "number_sections": false,
   "sideBar": false,
   "skip_h1_title": false,
   "title_cell": "Table of Contents",
   "title_sidebar": "Contents",
   "toc_cell": false,
   "toc_position": {},
   "toc_section_display": false,
   "toc_window_display": false
  }
 },
 "nbformat": 4,
 "nbformat_minor": 2
}
