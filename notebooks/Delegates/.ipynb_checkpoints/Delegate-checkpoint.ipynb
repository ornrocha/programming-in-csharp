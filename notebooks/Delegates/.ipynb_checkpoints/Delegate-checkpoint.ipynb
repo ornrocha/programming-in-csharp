{
 "cells": [
  {
   "cell_type": "markdown",
   "metadata": {},
   "source": [
    "# Delegate\n",
    "## Rule: [accessibility] delegate return_type DelegateName(argument list);\n",
    "\n",
    "* accessibility -> argument such as public or private.\n",
    "* delegate -> The delegate keyword.\n",
    "* returnType -> What the delegate returns (void, int, string, etc...)\n",
    "* DelegateName -> The name of the delegate type.\n",
    "* argument list -> The parameter list that the delegate should take."
   ]
  },
  {
   "cell_type": "markdown",
   "metadata": {},
   "source": [
    "### [Microsoft Recomendations](https://docs.microsoft.com/pt-pt/previous-versions/visualstudio/visual-studio-2010/ms173173(v=vs.100)) :\n",
    "\n",
    "Use a delegate in the following circumstances:\n",
    "\n",
    "* An eventing design pattern is used.\n",
    "\n",
    "* It is desirable to encapsulate a static method.\n",
    "\n",
    "* The caller has no need to access other properties, methods, or interfaces on the object implementing the method.\n",
    "\n",
    "* Easy composition is desired.\n",
    "\n",
    "* A class may need more than one implementation of the method.\n"
   ]
  },
  {
   "cell_type": "code",
   "execution_count": 1,
   "metadata": {},
   "outputs": [],
   "source": [
    "public delegate void DelegateExample();"
   ]
  },
  {
   "cell_type": "code",
   "execution_count": 2,
   "metadata": {},
   "outputs": [],
   "source": [
    "public delegate void DelegateWithParameter(string param);"
   ]
  },
  {
   "cell_type": "code",
   "execution_count": 3,
   "metadata": {},
   "outputs": [
    {
     "name": "stdout",
     "output_type": "stream",
     "text": [
      "Hello World\n",
      "Hello World\n"
     ]
    }
   ],
   "source": [
    "public static void printHello()\n",
    "{\n",
    "   Console.WriteLine(\"Hello World\");\n",
    "}\n",
    "\n",
    "\n",
    "DelegateExample myDelegate = new DelegateExample(printHello);\n",
    "\n",
    "myDelegate();\n",
    "myDelegate();"
   ]
  },
  {
   "cell_type": "code",
   "execution_count": 4,
   "metadata": {},
   "outputs": [
    {
     "name": "stdout",
     "output_type": "stream",
     "text": [
      "Hello to you\n",
      "Hello to me\n",
      "Hello to all\n"
     ]
    }
   ],
   "source": [
    "public static void printHelloMsg(string msg)\n",
    "{\n",
    "   Console.WriteLine(\"Hello {0}\",msg);\n",
    "}\n",
    "\n",
    "DelegateWithParameter myParameterDelegate = new DelegateWithParameter(printHelloMsg);\n",
    "\n",
    "myParameterDelegate(\"to you\");\n",
    "myParameterDelegate(\"to me\");\n",
    "myParameterDelegate(\"to all\");"
   ]
  },
  {
   "cell_type": "markdown",
   "metadata": {},
   "source": [
    "# ----------------------------------------------------------------------------------------------------------------------------"
   ]
  },
  {
   "cell_type": "markdown",
   "metadata": {},
   "source": [
    "# Multicast Delegate"
   ]
  },
  {
   "cell_type": "code",
   "execution_count": 5,
   "metadata": {},
   "outputs": [
    {
     "name": "stdout",
     "output_type": "stream",
     "text": [
      "Delegate 1: I'm here\n"
     ]
    }
   ],
   "source": [
    "public static void msgToDelegate1(string msg)\n",
    "{\n",
    "   Console.WriteLine(\"Delegate 1: {0}\",msg);\n",
    "}\n",
    "\n",
    "public static void msgToDelegate2(string msg)\n",
    "{\n",
    "   Console.WriteLine(\"Delegate 2: {0}\",msg);\n",
    "}\n",
    "\n",
    "\n",
    "public static void msgToDelegate3(string msg)\n",
    "{\n",
    "   Console.WriteLine(\"Delegate 3: {0}\",msg);\n",
    "}\n",
    "\n",
    "\n",
    "DelegateWithParameter msgdelegate = msgToDelegate1;\n",
    "\n",
    "\n",
    "\n",
    "msgdelegate(\"I'm here\");"
   ]
  },
  {
   "cell_type": "markdown",
   "metadata": {},
   "source": [
    "## Add reference of method \"msgToDelegate2\" to existing delegate \"msgdelegate\""
   ]
  },
  {
   "cell_type": "code",
   "execution_count": 6,
   "metadata": {},
   "outputs": [
    {
     "name": "stdout",
     "output_type": "stream",
     "text": [
      "Delegate 1: I'm here\n",
      "Delegate 2: I'm here\n"
     ]
    }
   ],
   "source": [
    "msgdelegate += msgToDelegate2;\n",
    "\n",
    "msgdelegate(\"I'm here\");"
   ]
  },
  {
   "cell_type": "markdown",
   "metadata": {},
   "source": [
    "## Add reference of method \"msgToDelegate3\" to existing delegate \"msgdelegate\""
   ]
  },
  {
   "cell_type": "code",
   "execution_count": 7,
   "metadata": {},
   "outputs": [
    {
     "name": "stdout",
     "output_type": "stream",
     "text": [
      "Delegate 1: I'm here\n",
      "Delegate 2: I'm here\n",
      "Delegate 3: I'm here\n"
     ]
    }
   ],
   "source": [
    "msgdelegate += msgToDelegate3;\n",
    "\n",
    "msgdelegate(\"I'm here\");"
   ]
  },
  {
   "cell_type": "markdown",
   "metadata": {},
   "source": [
    "## Remove reference of method \"msgToDelegate2\" to existing delegate \"msgdelegate\""
   ]
  },
  {
   "cell_type": "code",
   "execution_count": 8,
   "metadata": {},
   "outputs": [
    {
     "name": "stdout",
     "output_type": "stream",
     "text": [
      "Delegate 1: I'm here\n",
      "Delegate 3: I'm here\n"
     ]
    }
   ],
   "source": [
    "msgdelegate -= msgToDelegate2;\n",
    "\n",
    "msgdelegate(\"I'm here\");"
   ]
  },
  {
   "cell_type": "markdown",
   "metadata": {},
   "source": [
    "# ----------------------------------------------------------------------------------------------------------------------"
   ]
  },
  {
   "cell_type": "markdown",
   "metadata": {},
   "source": [
    "# Built-in Delegate Types"
   ]
  },
  {
   "cell_type": "markdown",
   "metadata": {},
   "source": [
    "## Action $\\to$ do not returns any value and have no parameter list"
   ]
  },
  {
   "cell_type": "code",
   "execution_count": 9,
   "metadata": {},
   "outputs": [
    {
     "name": "stdout",
     "output_type": "stream",
     "text": [
      "Hello World\n"
     ]
    }
   ],
   "source": [
    "Action myaction = printHello;\n",
    "\n",
    "myaction();"
   ]
  },
  {
   "cell_type": "markdown",
   "metadata": {},
   "source": [
    "## Action $\\lt$ $\\gt$ $\\to$ generic delegate that can take up to 16 arguments"
   ]
  },
  {
   "cell_type": "code",
   "execution_count": 13,
   "metadata": {},
   "outputs": [
    {
     "name": "stdout",
     "output_type": "stream",
     "text": [
      "Delegate 1: Now I'm here\n"
     ]
    }
   ],
   "source": [
    "Action<string> act = msgToDelegate1;\n",
    "\n",
    "act(\"Now I'm here\");"
   ]
  },
  {
   "cell_type": "code",
   "execution_count": 14,
   "metadata": {},
   "outputs": [
    {
     "name": "stdout",
     "output_type": "stream",
     "text": [
      "Delegate 1: Now I'm here\n",
      "Delegate 2: Now I'm here\n",
      "Delegate 3: Now I'm here\n"
     ]
    }
   ],
   "source": [
    "act += msgToDelegate2;\n",
    "act += msgToDelegate3;\n",
    "\n",
    "act(\"Now I'm here\");"
   ]
  },
  {
   "cell_type": "code",
   "execution_count": 15,
   "metadata": {},
   "outputs": [
    {
     "name": "stdout",
     "output_type": "stream",
     "text": [
      "Delegate 1: Now I'm here\n",
      "Delegate 2: Now I'm here\n"
     ]
    }
   ],
   "source": [
    "act -= msgToDelegate3;\n",
    "\n",
    "act(\"Now I'm here\");"
   ]
  },
  {
   "cell_type": "markdown",
   "metadata": {},
   "source": [
    "## Func $\\lt$ $\\gt$ $\\to$ generic delegate\n",
    "\n",
    "\n",
    "### public delegate TResult Func$\\lt$in T1, in T2, out TResult$\\gt$(T1 arg1, T2 arg2)"
   ]
  },
  {
   "cell_type": "code",
   "execution_count": 1,
   "metadata": {},
   "outputs": [],
   "source": [
    "public static int Add(int x, int y)\n",
    "{\n",
    "    int op = x + y;\n",
    "    Console.Write(\"Adding: {0} + {1} = {2}\", x, y, op);\n",
    "    return op;\n",
    "}\n",
    "\n",
    "\n",
    "static int Sub(int x, int y)\n",
    "{\n",
    "    int op = x - y;\n",
    "    Console.Write(\"Subtracting: {0} - {1} = {2}\", x, y, op);\n",
    "    return op;\n",
    "}"
   ]
  },
  {
   "cell_type": "code",
   "execution_count": 2,
   "metadata": {},
   "outputs": [
    {
     "name": "stdout",
     "output_type": "stream",
     "text": [
      "Adding: 5 + 5 = 10"
     ]
    }
   ],
   "source": [
    "Func<int, int, int> operation = Add;\n",
    "\n",
    "int result = operation(5,5);\n",
    "\n"
   ]
  },
  {
   "cell_type": "code",
   "execution_count": 3,
   "metadata": {},
   "outputs": [],
   "source": [
    "operation += Sub;"
   ]
  },
  {
   "cell_type": "code",
   "execution_count": 6,
   "metadata": {},
   "outputs": [
    {
     "name": "stdout",
     "output_type": "stream",
     "text": [
      "Adding: 5 + 5 = 10\t -> Result equals to: 10\n",
      "Subtracting: 5 - 5 = 0\t -> Result equals to: 0\n"
     ]
    }
   ],
   "source": [
    "foreach(Func<int, int, int> item in operation.GetInvocationList())\n",
    "{\n",
    "    Console.WriteLine(\"\\t -> Result equals to: {0}\", item(5,5));\n",
    "}"
   ]
  },
  {
   "cell_type": "markdown",
   "metadata": {},
   "source": [
    "## Predicate $\\lt$T$\\gt$ $\\to$ only accepts on argument and returns a boolean value type"
   ]
  },
  {
   "cell_type": "code",
   "execution_count": 1,
   "metadata": {},
   "outputs": [],
   "source": [
    "public static bool FiveLetters(string msg)\n",
    "{\n",
    "        bool res = (msg.Length == 5);\n",
    "        Console.WriteLine(\"The Word {0} has 5 letters: {1} \", msg, res);\n",
    "        return res;\n",
    "}"
   ]
  },
  {
   "cell_type": "code",
   "execution_count": 2,
   "metadata": {},
   "outputs": [
    {
     "name": "stdout",
     "output_type": "stream",
     "text": [
      "The Word value has 5 letters: True \n",
      "Result: True\n"
     ]
    }
   ],
   "source": [
    "Predicate<string> is5 = FiveLetters;\n",
    "\n",
    "Console.WriteLine(\"Result: {0}\", is5(\"value\"));"
   ]
  },
  {
   "cell_type": "code",
   "execution_count": 3,
   "metadata": {},
   "outputs": [
    {
     "name": "stdout",
     "output_type": "stream",
     "text": [
      "The Word type has 5 letters: False \n",
      "Result: False\n"
     ]
    }
   ],
   "source": [
    "Console.WriteLine(\"Result: {0}\", is5(\"type\"));"
   ]
  },
  {
   "cell_type": "markdown",
   "metadata": {},
   "source": [
    "# Anonymous Methods"
   ]
  },
  {
   "cell_type": "code",
   "execution_count": 6,
   "metadata": {},
   "outputs": [
    {
     "name": "stdout",
     "output_type": "stream",
     "text": [
      "Result: 5\n"
     ]
    }
   ],
   "source": [
    "public Func<int,int,int> Add = delegate(int n1, int n2){ return n1+n2;  };\n",
    "\n",
    "int result = Add(2,3);\n",
    "Console.WriteLine(\"Result: {0}\", result);"
   ]
  },
  {
   "cell_type": "code",
   "execution_count": 9,
   "metadata": {},
   "outputs": [
    {
     "name": "stdout",
     "output_type": "stream",
     "text": [
      "A message from anonymous method \n"
     ]
    }
   ],
   "source": [
    "public Action printMsg = delegate(){ Console.WriteLine(\"A message from anonymous method \"); };\n",
    "\n",
    "printMsg();"
   ]
  },
  {
   "cell_type": "markdown",
   "metadata": {},
   "source": [
    "## Lambda Expression"
   ]
  },
  {
   "cell_type": "code",
   "execution_count": 11,
   "metadata": {},
   "outputs": [
    {
     "name": "stdout",
     "output_type": "stream",
     "text": [
      "Result: 6\n"
     ]
    }
   ],
   "source": [
    "public Func<int,int,int> Mult = (int n1, int n2) => n1*n2;\n",
    "\n",
    "int result = Mult(2,3);\n",
    "Console.WriteLine(\"Result: {0}\", result);"
   ]
  },
  {
   "cell_type": "code",
   "execution_count": 15,
   "metadata": {},
   "outputs": [
    {
     "name": "stdout",
     "output_type": "stream",
     "text": [
      "A message from Lambda expression \n"
     ]
    }
   ],
   "source": [
    "public Action printMsg = () => Console.WriteLine(\"A message from Lambda expression \");\n",
    "\n",
    "printMsg();"
   ]
  },
  {
   "cell_type": "code",
   "execution_count": null,
   "metadata": {},
   "outputs": [],
   "source": []
  }
 ],
 "metadata": {
  "kernelspec": {
   "display_name": ".NET (C#)",
   "language": "C#",
   "name": ".net-csharp"
  },
  "language_info": {
   "file_extension": ".cs",
   "mimetype": "text/x-csharp",
   "name": "C#",
   "pygments_lexer": "csharp",
   "version": "8.0"
  },
  "toc": {
   "base_numbering": 1,
   "nav_menu": {},
   "number_sections": false,
   "sideBar": false,
   "skip_h1_title": false,
   "title_cell": "Table of Contents",
   "title_sidebar": "Contents",
   "toc_cell": false,
   "toc_position": {},
   "toc_section_display": false,
   "toc_window_display": false
  }
 },
 "nbformat": 4,
 "nbformat_minor": 2
}
