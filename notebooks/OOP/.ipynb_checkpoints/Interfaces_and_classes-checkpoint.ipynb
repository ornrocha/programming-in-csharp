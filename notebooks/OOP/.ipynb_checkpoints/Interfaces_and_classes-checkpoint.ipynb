{
 "cells": [
  {
   "cell_type": "code",
   "execution_count": 1,
   "metadata": {},
   "outputs": [],
   "source": [
    "using System;"
   ]
  },
  {
   "cell_type": "markdown",
   "metadata": {},
   "source": [
    "# Interfaces"
   ]
  },
  {
   "cell_type": "code",
   "execution_count": 2,
   "metadata": {},
   "outputs": [],
   "source": [
    "public interface IFly\n",
    "{\n",
    "   void TakeOff();\n",
    "   int GetNumberEngines();\n",
    "}\n",
    "\n",
    "\n",
    "public interface IRoad\n",
    "{\n",
    "\n",
    "  string GetCategory();\n",
    "}\n",
    "\n",
    "\n",
    "public interface IColor\n",
    "{\n",
    "    string GetColor();\n",
    "}"
   ]
  },
  {
   "cell_type": "code",
   "execution_count": null,
   "metadata": {},
   "outputs": [],
   "source": []
  },
  {
   "cell_type": "markdown",
   "metadata": {},
   "source": [
    "# Abstract class Transport\n",
    "\n",
    "## All vehicles inherits from this class and implements IColor"
   ]
  },
  {
   "cell_type": "code",
   "execution_count": 3,
   "metadata": {},
   "outputs": [],
   "source": [
    "public abstract class Transport : IColor\n",
    "{\n",
    "\n",
    "    protected string color = \"white\";\n",
    "    protected int manufacturingyear = 2000;\n",
    "\n",
    "\n",
    "    protected Transport(string color, int manufyear)\n",
    "    {\n",
    "        this.color = color;\n",
    "        this.manufacturingyear = manufyear;\n",
    "    }\n",
    "\n",
    "\n",
    "    public abstract string GetManufacturer();\n",
    "\n",
    "    public string GetColor()\n",
    "    {\n",
    "        return color;\n",
    "    }\n",
    "\n",
    "    public int ManufacturedYear\n",
    "    {\n",
    "        get { return manufacturingyear; }\n",
    "        set { manufacturingyear = value; }\n",
    "    }\n",
    "}"
   ]
  },
  {
   "cell_type": "markdown",
   "metadata": {},
   "source": [
    "## Car is derived from Transport and implements IRoad interface"
   ]
  },
  {
   "cell_type": "code",
   "execution_count": 4,
   "metadata": {},
   "outputs": [],
   "source": [
    "public class Car : Transport, IRoad\n",
    "{\n",
    "\n",
    "    public Car(string color, int manufyear) : base(color, manufyear) { }\n",
    "\n",
    "    public string Brand { get; set; }\n",
    "    public string Category { private get; set; }\n",
    "\n",
    "    public string GetCategory()\n",
    "    {\n",
    "        return Category;\n",
    "    }\n",
    "\n",
    "\n",
    "    public override string GetManufacturer()\n",
    "    {\n",
    "        return Brand;\n",
    "    }\n",
    "}"
   ]
  },
  {
   "cell_type": "markdown",
   "metadata": {},
   "source": [
    "## Airplane is derived from Transport and implements IFly interface"
   ]
  },
  {
   "cell_type": "code",
   "execution_count": 10,
   "metadata": {},
   "outputs": [],
   "source": [
    "public class Airplane : Transport, IFly\n",
    "{\n",
    "\n",
    "    private string manufacturer;\n",
    "    private int engines = 2;\n",
    "\n",
    "    public Airplane(string color, int numberengines, int manufyear) : base(color, manufyear)\n",
    "    {\n",
    "        if (numberengines < 1)\n",
    "            throw new Exception(\"An airplane must have at least one engine\");\n",
    "        else\n",
    "            this.engines = numberengines;\n",
    "    }\n",
    "\n",
    "    public override string GetManufacturer()\n",
    "    {\n",
    "        return manufacturer;\n",
    "    }\n",
    "\n",
    "    public void Manufacturer(string name) { this.manufacturer = name; }\n",
    "\n",
    "\n",
    "    public int GetNumberEngines()\n",
    "    {\n",
    "        return engines;\n",
    "    }\n",
    "\n",
    "    public virtual void TakeOff()\n",
    "    {\n",
    "        Console.WriteLine(\"Airplane is taking off\");\n",
    "    }\n",
    "}"
   ]
  },
  {
   "cell_type": "code",
   "execution_count": null,
   "metadata": {},
   "outputs": [],
   "source": []
  },
  {
   "cell_type": "markdown",
   "metadata": {},
   "source": [
    "## An instance of a Car "
   ]
  },
  {
   "cell_type": "code",
   "execution_count": 6,
   "metadata": {},
   "outputs": [
    {
     "name": "stdout",
     "output_type": "stream",
     "text": [
      "Car info:  brand = Audi, color=blue, year=2018, category=Sport 2.0 tdi\n"
     ]
    }
   ],
   "source": [
    "Car c1 = new Car(\"blue\", 2018);\n",
    "c1.Brand = \"Audi\";\n",
    "c1.Category = \"Sport 2.0 tdi\";\n",
    "\n",
    "Console.WriteLine(\"Car info:  brand = {0}, color={1}, year={2}, category={3}\", c1.GetManufacturer(), c1.GetColor(), c1.ManufacturedYear, c1.GetCategory());\n"
   ]
  },
  {
   "cell_type": "code",
   "execution_count": null,
   "metadata": {},
   "outputs": [],
   "source": []
  },
  {
   "cell_type": "markdown",
   "metadata": {},
   "source": [
    "## Instances of an Airplane"
   ]
  },
  {
   "cell_type": "code",
   "execution_count": 7,
   "metadata": {},
   "outputs": [
    {
     "name": "stdout",
     "output_type": "stream",
     "text": [
      "Airplane, color=red, number engines=2\n",
      "Airplane is taking off\n"
     ]
    }
   ],
   "source": [
    "Airplane a1 = new Airplane(\"red\", 2, 2000);\n",
    "\n",
    "Console.WriteLine(\"Airplane, color={0}, number engines={1}\", a1.GetColor(), a1.GetNumberEngines());\n",
    "a1.TakeOff();"
   ]
  },
  {
   "cell_type": "code",
   "execution_count": 8,
   "metadata": {},
   "outputs": [
    {
     "ename": "Unhandled Exception",
     "evalue": "An airplane must have at least one engine",
     "output_type": "error",
     "traceback": [
      "Unhandled Exception",
      "An airplane must have at least one engine",
      "   at Submission#6.Airplane..ctor(String color, Int32 numberengines, Int32 manufyear)",
      "   at Submission#9.<<Initialize>>d__0.MoveNext()",
      "--- End of stack trace from previous location where exception was thrown ---",
      "   at Microsoft.CodeAnalysis.Scripting.ScriptExecutionState.RunSubmissionsAsync[TResult](ImmutableArray`1 precedingExecutors, Func`2 currentExecutor, StrongBox`1 exceptionHolderOpt, Func`2 catchExceptionOpt, CancellationToken cancellationToken)"
     ]
    }
   ],
   "source": [
    "Airplane a2= new Airplane(\"yellow\", 0, 2013);"
   ]
  },
  {
   "cell_type": "markdown",
   "metadata": {},
   "source": [
    "## Define an Helicopter from an Airplane"
   ]
  },
  {
   "cell_type": "code",
   "execution_count": 11,
   "metadata": {},
   "outputs": [],
   "source": [
    "public class Helicopter : Airplane\n",
    "{\n",
    "    public Helicopter(string color, int numberengines, int manufyear) : base(color, numberengines, manufyear)\n",
    "    {\n",
    "\n",
    "    }\n",
    "\n",
    "    public override void TakeOff()\n",
    "    {\n",
    "      Console.WriteLine(\"helicopter with color={0} of year {1} is taking off\", this.color, Convert.ToString(this.manufacturingyear));\n",
    "    }\n",
    "}"
   ]
  },
  {
   "cell_type": "markdown",
   "metadata": {},
   "source": [
    "## Helicopter instance"
   ]
  },
  {
   "cell_type": "code",
   "execution_count": 15,
   "metadata": {},
   "outputs": [
    {
     "name": "stdout",
     "output_type": "stream",
     "text": [
      "helicopter with color=gray of year 2014 is taking off\n"
     ]
    }
   ],
   "source": [
    "Helicopter h1 = new Helicopter(\"gray\", 1, 2014);\n",
    "h1.TakeOff();"
   ]
  },
  {
   "cell_type": "code",
   "execution_count": null,
   "metadata": {},
   "outputs": [],
   "source": []
  }
 ],
 "metadata": {
  "kernelspec": {
   "display_name": ".NET (C#)",
   "language": "C#",
   "name": ".net-csharp"
  },
  "language_info": {
   "file_extension": ".cs",
   "mimetype": "text/x-csharp",
   "name": "C#",
   "pygments_lexer": "csharp",
   "version": "8.0"
  },
  "toc": {
   "base_numbering": 1,
   "nav_menu": {},
   "number_sections": false,
   "sideBar": false,
   "skip_h1_title": false,
   "title_cell": "Table of Contents",
   "title_sidebar": "Contents",
   "toc_cell": false,
   "toc_position": {},
   "toc_section_display": false,
   "toc_window_display": false
  }
 },
 "nbformat": 4,
 "nbformat_minor": 2
}
